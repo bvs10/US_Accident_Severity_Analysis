{
 "cells": [
  {
   "cell_type": "code",
   "execution_count": 1,
   "id": "69fda30e",
   "metadata": {},
   "outputs": [],
   "source": [
    "import pandas as pd\n",
    "import numpy as np\n",
    "from tabulate import tabulate\n",
    "pd.set_option('display.max_columns', None)\n",
    "pd.set_option('display.max_rows', None)\n",
    "\n",
    "import matplotlib.pyplot as plt\n",
    "import plotly.express as px\n",
    "import statsmodels.formula.api as smapi\n",
    "%matplotlib inline\n",
    "import seaborn as sns\n",
    "\n",
    "import warnings\n",
    "warnings.filterwarnings(\"ignore\")"
   ]
  },
  {
   "cell_type": "code",
   "execution_count": 2,
   "id": "bcdc8239",
   "metadata": {},
   "outputs": [],
   "source": [
    "data = pd.read_csv(\"US_Accidents_Dec21_updated.csv\")"
   ]
  },
  {
   "cell_type": "markdown",
   "id": "9e594b67",
   "metadata": {},
   "source": [
    "### Meet the Data and the Setting\n",
    "\n",
    "##### Background  \n",
    "This is a countrywide traffic accident dataset, which covers 49 states of the United States. The data is continuously being collected from February 2016, using several data providers, including multiple APIs that provide streaming traffic event data. These APIs broadcast traffic events captured by a variety of entities, such as the US and state departments of transportation, law enforcement agencies, traffic cameras, and traffic sensors within the road-networks. Currently, there are about 1.5 million accident records in this dataset.\n",
    "\n",
    "##### The Dataset\n",
    "US-Accidents can be used for numerous applications such as real-time car accident prediction, studying car accidents hotspot locations, casualty analysis and extracting cause and effect rules to predict car accidents, and studying the impact of precipitation or other environmental stimuli on accident occurrence.\n",
    "\n",
    "- **ID:** This is a unique identifier of the accident record.\n",
    "- **Severity:** Shows the severity of the accident, a number between 1 and 4, where 1 indicates the least impact on traffic (i.e., short delay as a result of the accident) and 4 indicates a significant impact on traffic (i.e., long delay).\n",
    "- **Start_Time:** Shows start time of the accident in local time zone.\n",
    "- **End_Time:** Shows end time of the accident in local time zone. End time here refers to when the impact of accident on traffic flow was dismissed.\n",
    "- **Start_Lat:** Shows latitude in GPS coordinate of the start point.\n",
    "- **Start_Lng:** Shows longitude in GPS coordinate of the start point.\n",
    "- **End_Lat:** Shows latitude in GPS coordinate of the end point. \n",
    "- **End_Lng:** Shows longitude in GPS coordinate of the end point. \n",
    "- **Distance(mi):** The length of the road extent affected by the accident. \n",
    "- **Description:** Shows natural language description of the accident. \n",
    "- **Street:** Shows the street number in address field. \n",
    "- **Side:** Shows the relative side of the street (Right/Left) in address field.\n",
    "- **City:** Shows the city in address field. \n",
    "- **County:** Shows the county in address field. \n",
    "- **State:** Shows the state in address field. \n",
    "- **Zipcode:** Shows the zipcode in address field. \n",
    "- **Country:** Shows the country in address field. \n",
    "- **Timezone:** Shows timezone based on the location of the accident (eastern, central, etc.). \n",
    "- **Airport_Code:** Denotes an airport-based weather station which is the closest one to location of the accident. \n",
    "- **Weather_Timestamp:** Shows the time-stamp of weather observation record (in local time). \n",
    "- **Temperature(F):** Shows the temperature (in Fahrenheit). \n",
    "- **Wind_Chill(F):** Shows the wind chill (in Fahrenheit). \n",
    "- **Humidity(%):** Shows the humidity (in percentage). \n",
    "- **Pressure(in):** Shows the air pressure (in inches). \n",
    "- **Visibility(mi):** Shows visibility (in miles). \n",
    "- **Wind_Direction:** Shows wind direction. \n",
    "- **Wind_Speed(mph):** Shows wind speed (in miles per hour). \n",
    "- **Precipitation(in):** Shows precipitation amount in inches, if there is any. \n",
    "- **Weather_Condition:** Shows the weather condition (rain, snow, thunderstorm, fog, etc.) \n",
    "- **Amenity:** A POI annotation which indicates presence of amenity in a nearby location. \n",
    "- **Bump:** A POI annotation which indicates presence of speed bump or hump in a nearby location. \n",
    "- **Crossing:** A POI annotation which indicates presence of crossing in a nearby location. \n",
    "- **Give_Way:** A POI annotation which indicates presence of give_way in a nearby location. \n",
    "- **Junction:** A POI annotation which indicates presence of junction in a nearby location. \n",
    "- **No_Exit:** A POI annotation which indicates presence of no_exit in a nearby location. \n",
    "- **Railway:** A POI annotation which indicates presence of railway in a nearby location. \n",
    "- **Roundabout:** A POI annotation which indicates presence of roundabout in a nearby location. \n",
    "- **Station:** A POI annotation which indicates presence of station in a nearby location. \n",
    "- **Stop:** A POI annotation which indicates presence of stop in a nearby location. \n",
    "- **Traffic_Calming:** A POI annotation which indicates presence of traffic_calming in a nearby location. \n",
    "- **Traffic_Signal:** A POI annotation which indicates presence of traffic_signal in a nearby loction. \n",
    "- **Turning_Loop:** A POI annotation which indicates presence of turning_loop in a nearby location. \n",
    "- **Sunrise_Sunset:** Shows the period of day (i.e. day or night) based on sunrise/sunset. \n",
    "- **Civil_Twilight:** Shows the period of day (i.e. day or night) based on civil twilight. \n",
    "- **Nautical_Twilight:** Shows the period of day (i.e. day or night) based on nautical twilight. \n",
    "- **Astronomical_Twilight:** Shows the period of day (i.e. day or night) based on astronomical twilight. \n",
    "\n",
    "\n",
    "\n",
    "- **___weathersit:**<br>\n",
    "    - 1: Clear, Few clouds, Partly cloudy, Partly cloudy\n",
    "    - 2: Mist + Cloudy, Mist + Broken clouds, Mist + Few clouds, Mist\n",
    "    - 3: Light Snow, Light Rain + Thunderstorm + Scattered clouds, Light Rain + Scattered clouds"
   ]
  },
  {
   "cell_type": "code",
   "execution_count": 3,
   "id": "a097f7b5",
   "metadata": {},
   "outputs": [
    {
     "data": {
      "text/html": [
       "<div>\n",
       "<style scoped>\n",
       "    .dataframe tbody tr th:only-of-type {\n",
       "        vertical-align: middle;\n",
       "    }\n",
       "\n",
       "    .dataframe tbody tr th {\n",
       "        vertical-align: top;\n",
       "    }\n",
       "\n",
       "    .dataframe thead th {\n",
       "        text-align: right;\n",
       "    }\n",
       "</style>\n",
       "<table border=\"1\" class=\"dataframe\">\n",
       "  <thead>\n",
       "    <tr style=\"text-align: right;\">\n",
       "      <th></th>\n",
       "      <th>ID</th>\n",
       "      <th>Severity</th>\n",
       "      <th>Start_Time</th>\n",
       "      <th>End_Time</th>\n",
       "      <th>Start_Lat</th>\n",
       "      <th>Start_Lng</th>\n",
       "      <th>End_Lat</th>\n",
       "      <th>End_Lng</th>\n",
       "      <th>Distance(mi)</th>\n",
       "      <th>Description</th>\n",
       "      <th>Number</th>\n",
       "      <th>Street</th>\n",
       "      <th>Side</th>\n",
       "      <th>City</th>\n",
       "      <th>County</th>\n",
       "      <th>State</th>\n",
       "      <th>Zipcode</th>\n",
       "      <th>Country</th>\n",
       "      <th>Timezone</th>\n",
       "      <th>Airport_Code</th>\n",
       "      <th>Weather_Timestamp</th>\n",
       "      <th>Temperature(F)</th>\n",
       "      <th>Wind_Chill(F)</th>\n",
       "      <th>Humidity(%)</th>\n",
       "      <th>Pressure(in)</th>\n",
       "      <th>Visibility(mi)</th>\n",
       "      <th>Wind_Direction</th>\n",
       "      <th>Wind_Speed(mph)</th>\n",
       "      <th>Precipitation(in)</th>\n",
       "      <th>Weather_Condition</th>\n",
       "      <th>Amenity</th>\n",
       "      <th>Bump</th>\n",
       "      <th>Crossing</th>\n",
       "      <th>Give_Way</th>\n",
       "      <th>Junction</th>\n",
       "      <th>No_Exit</th>\n",
       "      <th>Railway</th>\n",
       "      <th>Roundabout</th>\n",
       "      <th>Station</th>\n",
       "      <th>Stop</th>\n",
       "      <th>Traffic_Calming</th>\n",
       "      <th>Traffic_Signal</th>\n",
       "      <th>Turning_Loop</th>\n",
       "      <th>Sunrise_Sunset</th>\n",
       "      <th>Civil_Twilight</th>\n",
       "      <th>Nautical_Twilight</th>\n",
       "      <th>Astronomical_Twilight</th>\n",
       "    </tr>\n",
       "  </thead>\n",
       "  <tbody>\n",
       "    <tr>\n",
       "      <th>0</th>\n",
       "      <td>A-1</td>\n",
       "      <td>3</td>\n",
       "      <td>2016-02-08 00:37:08</td>\n",
       "      <td>2016-02-08 06:37:08</td>\n",
       "      <td>40.10891</td>\n",
       "      <td>-83.09286</td>\n",
       "      <td>40.11206</td>\n",
       "      <td>-83.03187</td>\n",
       "      <td>3.230</td>\n",
       "      <td>Between Sawmill Rd/Exit 20 and OH-315/Olentang...</td>\n",
       "      <td>NaN</td>\n",
       "      <td>Outerbelt E</td>\n",
       "      <td>R</td>\n",
       "      <td>Dublin</td>\n",
       "      <td>Franklin</td>\n",
       "      <td>OH</td>\n",
       "      <td>43017</td>\n",
       "      <td>US</td>\n",
       "      <td>US/Eastern</td>\n",
       "      <td>KOSU</td>\n",
       "      <td>2016-02-08 00:53:00</td>\n",
       "      <td>42.1</td>\n",
       "      <td>36.1</td>\n",
       "      <td>58.0</td>\n",
       "      <td>29.76</td>\n",
       "      <td>10.0</td>\n",
       "      <td>SW</td>\n",
       "      <td>10.4</td>\n",
       "      <td>0.00</td>\n",
       "      <td>Light Rain</td>\n",
       "      <td>False</td>\n",
       "      <td>False</td>\n",
       "      <td>False</td>\n",
       "      <td>False</td>\n",
       "      <td>False</td>\n",
       "      <td>False</td>\n",
       "      <td>False</td>\n",
       "      <td>False</td>\n",
       "      <td>False</td>\n",
       "      <td>False</td>\n",
       "      <td>False</td>\n",
       "      <td>False</td>\n",
       "      <td>False</td>\n",
       "      <td>Night</td>\n",
       "      <td>Night</td>\n",
       "      <td>Night</td>\n",
       "      <td>Night</td>\n",
       "    </tr>\n",
       "    <tr>\n",
       "      <th>1</th>\n",
       "      <td>A-2</td>\n",
       "      <td>2</td>\n",
       "      <td>2016-02-08 05:56:20</td>\n",
       "      <td>2016-02-08 11:56:20</td>\n",
       "      <td>39.86542</td>\n",
       "      <td>-84.06280</td>\n",
       "      <td>39.86501</td>\n",
       "      <td>-84.04873</td>\n",
       "      <td>0.747</td>\n",
       "      <td>At OH-4/OH-235/Exit 41 - Accident.</td>\n",
       "      <td>NaN</td>\n",
       "      <td>I-70 E</td>\n",
       "      <td>R</td>\n",
       "      <td>Dayton</td>\n",
       "      <td>Montgomery</td>\n",
       "      <td>OH</td>\n",
       "      <td>45424</td>\n",
       "      <td>US</td>\n",
       "      <td>US/Eastern</td>\n",
       "      <td>KFFO</td>\n",
       "      <td>2016-02-08 05:58:00</td>\n",
       "      <td>36.9</td>\n",
       "      <td>NaN</td>\n",
       "      <td>91.0</td>\n",
       "      <td>29.68</td>\n",
       "      <td>10.0</td>\n",
       "      <td>Calm</td>\n",
       "      <td>NaN</td>\n",
       "      <td>0.02</td>\n",
       "      <td>Light Rain</td>\n",
       "      <td>False</td>\n",
       "      <td>False</td>\n",
       "      <td>False</td>\n",
       "      <td>False</td>\n",
       "      <td>False</td>\n",
       "      <td>False</td>\n",
       "      <td>False</td>\n",
       "      <td>False</td>\n",
       "      <td>False</td>\n",
       "      <td>False</td>\n",
       "      <td>False</td>\n",
       "      <td>False</td>\n",
       "      <td>False</td>\n",
       "      <td>Night</td>\n",
       "      <td>Night</td>\n",
       "      <td>Night</td>\n",
       "      <td>Night</td>\n",
       "    </tr>\n",
       "    <tr>\n",
       "      <th>2845340</th>\n",
       "      <td>A-2845341</td>\n",
       "      <td>2</td>\n",
       "      <td>2019-08-23 19:00:21</td>\n",
       "      <td>2019-08-23 19:29:42</td>\n",
       "      <td>33.99246</td>\n",
       "      <td>-118.40302</td>\n",
       "      <td>33.98311</td>\n",
       "      <td>-118.39565</td>\n",
       "      <td>0.772</td>\n",
       "      <td>At CA-90/Marina Fwy/Jefferson Blvd - Accident.</td>\n",
       "      <td>NaN</td>\n",
       "      <td>San Diego Fwy S</td>\n",
       "      <td>R</td>\n",
       "      <td>Culver City</td>\n",
       "      <td>Los Angeles</td>\n",
       "      <td>CA</td>\n",
       "      <td>90230</td>\n",
       "      <td>US</td>\n",
       "      <td>US/Pacific</td>\n",
       "      <td>KSMO</td>\n",
       "      <td>2019-08-23 18:51:00</td>\n",
       "      <td>71.0</td>\n",
       "      <td>71.0</td>\n",
       "      <td>81.0</td>\n",
       "      <td>29.62</td>\n",
       "      <td>10.0</td>\n",
       "      <td>SW</td>\n",
       "      <td>8.0</td>\n",
       "      <td>0.00</td>\n",
       "      <td>Fair</td>\n",
       "      <td>False</td>\n",
       "      <td>False</td>\n",
       "      <td>False</td>\n",
       "      <td>False</td>\n",
       "      <td>False</td>\n",
       "      <td>False</td>\n",
       "      <td>False</td>\n",
       "      <td>False</td>\n",
       "      <td>False</td>\n",
       "      <td>False</td>\n",
       "      <td>False</td>\n",
       "      <td>False</td>\n",
       "      <td>False</td>\n",
       "      <td>Day</td>\n",
       "      <td>Day</td>\n",
       "      <td>Day</td>\n",
       "      <td>Day</td>\n",
       "    </tr>\n",
       "    <tr>\n",
       "      <th>2845341</th>\n",
       "      <td>A-2845342</td>\n",
       "      <td>2</td>\n",
       "      <td>2019-08-23 18:52:06</td>\n",
       "      <td>2019-08-23 19:21:31</td>\n",
       "      <td>34.13393</td>\n",
       "      <td>-117.23092</td>\n",
       "      <td>34.13736</td>\n",
       "      <td>-117.23934</td>\n",
       "      <td>0.537</td>\n",
       "      <td>At Highland Ave/Arden Ave - Accident.</td>\n",
       "      <td>NaN</td>\n",
       "      <td>CA-210 W</td>\n",
       "      <td>R</td>\n",
       "      <td>Highland</td>\n",
       "      <td>San Bernardino</td>\n",
       "      <td>CA</td>\n",
       "      <td>92346</td>\n",
       "      <td>US</td>\n",
       "      <td>US/Pacific</td>\n",
       "      <td>KSBD</td>\n",
       "      <td>2019-08-23 20:50:00</td>\n",
       "      <td>79.0</td>\n",
       "      <td>79.0</td>\n",
       "      <td>47.0</td>\n",
       "      <td>28.63</td>\n",
       "      <td>7.0</td>\n",
       "      <td>SW</td>\n",
       "      <td>7.0</td>\n",
       "      <td>0.00</td>\n",
       "      <td>Fair</td>\n",
       "      <td>False</td>\n",
       "      <td>False</td>\n",
       "      <td>False</td>\n",
       "      <td>False</td>\n",
       "      <td>False</td>\n",
       "      <td>False</td>\n",
       "      <td>False</td>\n",
       "      <td>False</td>\n",
       "      <td>False</td>\n",
       "      <td>False</td>\n",
       "      <td>False</td>\n",
       "      <td>False</td>\n",
       "      <td>False</td>\n",
       "      <td>Day</td>\n",
       "      <td>Day</td>\n",
       "      <td>Day</td>\n",
       "      <td>Day</td>\n",
       "    </tr>\n",
       "  </tbody>\n",
       "</table>\n",
       "</div>"
      ],
      "text/plain": [
       "                ID  Severity           Start_Time             End_Time  \\\n",
       "0              A-1         3  2016-02-08 00:37:08  2016-02-08 06:37:08   \n",
       "1              A-2         2  2016-02-08 05:56:20  2016-02-08 11:56:20   \n",
       "2845340  A-2845341         2  2019-08-23 19:00:21  2019-08-23 19:29:42   \n",
       "2845341  A-2845342         2  2019-08-23 18:52:06  2019-08-23 19:21:31   \n",
       "\n",
       "         Start_Lat  Start_Lng   End_Lat    End_Lng  Distance(mi)  \\\n",
       "0         40.10891  -83.09286  40.11206  -83.03187         3.230   \n",
       "1         39.86542  -84.06280  39.86501  -84.04873         0.747   \n",
       "2845340   33.99246 -118.40302  33.98311 -118.39565         0.772   \n",
       "2845341   34.13393 -117.23092  34.13736 -117.23934         0.537   \n",
       "\n",
       "                                               Description  Number  \\\n",
       "0        Between Sawmill Rd/Exit 20 and OH-315/Olentang...     NaN   \n",
       "1                       At OH-4/OH-235/Exit 41 - Accident.     NaN   \n",
       "2845340     At CA-90/Marina Fwy/Jefferson Blvd - Accident.     NaN   \n",
       "2845341              At Highland Ave/Arden Ave - Accident.     NaN   \n",
       "\n",
       "                  Street Side         City          County State Zipcode  \\\n",
       "0            Outerbelt E    R       Dublin        Franklin    OH   43017   \n",
       "1                 I-70 E    R       Dayton      Montgomery    OH   45424   \n",
       "2845340  San Diego Fwy S    R  Culver City     Los Angeles    CA   90230   \n",
       "2845341         CA-210 W    R     Highland  San Bernardino    CA   92346   \n",
       "\n",
       "        Country    Timezone Airport_Code    Weather_Timestamp  Temperature(F)  \\\n",
       "0            US  US/Eastern         KOSU  2016-02-08 00:53:00            42.1   \n",
       "1            US  US/Eastern         KFFO  2016-02-08 05:58:00            36.9   \n",
       "2845340      US  US/Pacific         KSMO  2019-08-23 18:51:00            71.0   \n",
       "2845341      US  US/Pacific         KSBD  2019-08-23 20:50:00            79.0   \n",
       "\n",
       "         Wind_Chill(F)  Humidity(%)  Pressure(in)  Visibility(mi)  \\\n",
       "0                 36.1         58.0         29.76            10.0   \n",
       "1                  NaN         91.0         29.68            10.0   \n",
       "2845340           71.0         81.0         29.62            10.0   \n",
       "2845341           79.0         47.0         28.63             7.0   \n",
       "\n",
       "        Wind_Direction  Wind_Speed(mph)  Precipitation(in) Weather_Condition  \\\n",
       "0                   SW             10.4               0.00        Light Rain   \n",
       "1                 Calm              NaN               0.02        Light Rain   \n",
       "2845340             SW              8.0               0.00              Fair   \n",
       "2845341             SW              7.0               0.00              Fair   \n",
       "\n",
       "         Amenity   Bump  Crossing  Give_Way  Junction  No_Exit  Railway  \\\n",
       "0          False  False     False     False     False    False    False   \n",
       "1          False  False     False     False     False    False    False   \n",
       "2845340    False  False     False     False     False    False    False   \n",
       "2845341    False  False     False     False     False    False    False   \n",
       "\n",
       "         Roundabout  Station   Stop  Traffic_Calming  Traffic_Signal  \\\n",
       "0             False    False  False            False           False   \n",
       "1             False    False  False            False           False   \n",
       "2845340       False    False  False            False           False   \n",
       "2845341       False    False  False            False           False   \n",
       "\n",
       "         Turning_Loop Sunrise_Sunset Civil_Twilight Nautical_Twilight  \\\n",
       "0               False          Night          Night             Night   \n",
       "1               False          Night          Night             Night   \n",
       "2845340         False            Day            Day               Day   \n",
       "2845341         False            Day            Day               Day   \n",
       "\n",
       "        Astronomical_Twilight  \n",
       "0                       Night  \n",
       "1                       Night  \n",
       "2845340                   Day  \n",
       "2845341                   Day  "
      ]
     },
     "execution_count": 3,
     "metadata": {},
     "output_type": "execute_result"
    }
   ],
   "source": [
    "# Printing first and last two rows of the data\n",
    "pd.concat([data.head(2), data.tail(2)])"
   ]
  },
  {
   "cell_type": "code",
   "execution_count": 4,
   "id": "01e56ae7",
   "metadata": {},
   "outputs": [
    {
     "name": "stdout",
     "output_type": "stream",
     "text": [
      "Summary of the data:\n"
     ]
    },
    {
     "data": {
      "text/html": [
       "<div>\n",
       "<style scoped>\n",
       "    .dataframe tbody tr th:only-of-type {\n",
       "        vertical-align: middle;\n",
       "    }\n",
       "\n",
       "    .dataframe tbody tr th {\n",
       "        vertical-align: top;\n",
       "    }\n",
       "\n",
       "    .dataframe thead th {\n",
       "        text-align: right;\n",
       "    }\n",
       "</style>\n",
       "<table border=\"1\" class=\"dataframe\">\n",
       "  <thead>\n",
       "    <tr style=\"text-align: right;\">\n",
       "      <th></th>\n",
       "      <th>Severity</th>\n",
       "      <th>Start_Lat</th>\n",
       "      <th>Start_Lng</th>\n",
       "      <th>End_Lat</th>\n",
       "      <th>End_Lng</th>\n",
       "      <th>Distance(mi)</th>\n",
       "      <th>Number</th>\n",
       "      <th>Temperature(F)</th>\n",
       "      <th>Wind_Chill(F)</th>\n",
       "      <th>Humidity(%)</th>\n",
       "      <th>Pressure(in)</th>\n",
       "      <th>Visibility(mi)</th>\n",
       "      <th>Wind_Speed(mph)</th>\n",
       "      <th>Precipitation(in)</th>\n",
       "    </tr>\n",
       "  </thead>\n",
       "  <tbody>\n",
       "    <tr>\n",
       "      <th>count</th>\n",
       "      <td>2.845342e+06</td>\n",
       "      <td>2.845342e+06</td>\n",
       "      <td>2.845342e+06</td>\n",
       "      <td>2.845342e+06</td>\n",
       "      <td>2.845342e+06</td>\n",
       "      <td>2.845342e+06</td>\n",
       "      <td>1.101431e+06</td>\n",
       "      <td>2.776068e+06</td>\n",
       "      <td>2.375699e+06</td>\n",
       "      <td>2.772250e+06</td>\n",
       "      <td>2.786142e+06</td>\n",
       "      <td>2.774796e+06</td>\n",
       "      <td>2.687398e+06</td>\n",
       "      <td>2.295884e+06</td>\n",
       "    </tr>\n",
       "    <tr>\n",
       "      <th>mean</th>\n",
       "      <td>2.137572e+00</td>\n",
       "      <td>3.624520e+01</td>\n",
       "      <td>-9.711463e+01</td>\n",
       "      <td>3.624532e+01</td>\n",
       "      <td>-9.711439e+01</td>\n",
       "      <td>7.026779e-01</td>\n",
       "      <td>8.089408e+03</td>\n",
       "      <td>6.179356e+01</td>\n",
       "      <td>5.965823e+01</td>\n",
       "      <td>6.436545e+01</td>\n",
       "      <td>2.947234e+01</td>\n",
       "      <td>9.099391e+00</td>\n",
       "      <td>7.395044e+00</td>\n",
       "      <td>7.016940e-03</td>\n",
       "    </tr>\n",
       "    <tr>\n",
       "      <th>std</th>\n",
       "      <td>4.787216e-01</td>\n",
       "      <td>5.363797e+00</td>\n",
       "      <td>1.831782e+01</td>\n",
       "      <td>5.363873e+00</td>\n",
       "      <td>1.831763e+01</td>\n",
       "      <td>1.560361e+00</td>\n",
       "      <td>1.836009e+04</td>\n",
       "      <td>1.862263e+01</td>\n",
       "      <td>2.116097e+01</td>\n",
       "      <td>2.287457e+01</td>\n",
       "      <td>1.045286e+00</td>\n",
       "      <td>2.717546e+00</td>\n",
       "      <td>5.527454e+00</td>\n",
       "      <td>9.348831e-02</td>\n",
       "    </tr>\n",
       "    <tr>\n",
       "      <th>min</th>\n",
       "      <td>1.000000e+00</td>\n",
       "      <td>2.456603e+01</td>\n",
       "      <td>-1.245481e+02</td>\n",
       "      <td>2.456601e+01</td>\n",
       "      <td>-1.245457e+02</td>\n",
       "      <td>0.000000e+00</td>\n",
       "      <td>0.000000e+00</td>\n",
       "      <td>-8.900000e+01</td>\n",
       "      <td>-8.900000e+01</td>\n",
       "      <td>1.000000e+00</td>\n",
       "      <td>0.000000e+00</td>\n",
       "      <td>0.000000e+00</td>\n",
       "      <td>0.000000e+00</td>\n",
       "      <td>0.000000e+00</td>\n",
       "    </tr>\n",
       "    <tr>\n",
       "      <th>25%</th>\n",
       "      <td>2.000000e+00</td>\n",
       "      <td>3.344517e+01</td>\n",
       "      <td>-1.180331e+02</td>\n",
       "      <td>3.344628e+01</td>\n",
       "      <td>-1.180333e+02</td>\n",
       "      <td>5.200000e-02</td>\n",
       "      <td>1.270000e+03</td>\n",
       "      <td>5.000000e+01</td>\n",
       "      <td>4.600000e+01</td>\n",
       "      <td>4.800000e+01</td>\n",
       "      <td>2.931000e+01</td>\n",
       "      <td>1.000000e+01</td>\n",
       "      <td>3.500000e+00</td>\n",
       "      <td>0.000000e+00</td>\n",
       "    </tr>\n",
       "    <tr>\n",
       "      <th>50%</th>\n",
       "      <td>2.000000e+00</td>\n",
       "      <td>3.609861e+01</td>\n",
       "      <td>-9.241808e+01</td>\n",
       "      <td>3.609799e+01</td>\n",
       "      <td>-9.241772e+01</td>\n",
       "      <td>2.440000e-01</td>\n",
       "      <td>4.007000e+03</td>\n",
       "      <td>6.400000e+01</td>\n",
       "      <td>6.300000e+01</td>\n",
       "      <td>6.700000e+01</td>\n",
       "      <td>2.982000e+01</td>\n",
       "      <td>1.000000e+01</td>\n",
       "      <td>7.000000e+00</td>\n",
       "      <td>0.000000e+00</td>\n",
       "    </tr>\n",
       "    <tr>\n",
       "      <th>75%</th>\n",
       "      <td>2.000000e+00</td>\n",
       "      <td>4.016024e+01</td>\n",
       "      <td>-8.037243e+01</td>\n",
       "      <td>4.016105e+01</td>\n",
       "      <td>-8.037338e+01</td>\n",
       "      <td>7.640000e-01</td>\n",
       "      <td>9.567000e+03</td>\n",
       "      <td>7.600000e+01</td>\n",
       "      <td>7.600000e+01</td>\n",
       "      <td>8.300000e+01</td>\n",
       "      <td>3.001000e+01</td>\n",
       "      <td>1.000000e+01</td>\n",
       "      <td>1.000000e+01</td>\n",
       "      <td>0.000000e+00</td>\n",
       "    </tr>\n",
       "    <tr>\n",
       "      <th>max</th>\n",
       "      <td>4.000000e+00</td>\n",
       "      <td>4.900058e+01</td>\n",
       "      <td>-6.711317e+01</td>\n",
       "      <td>4.907500e+01</td>\n",
       "      <td>-6.710924e+01</td>\n",
       "      <td>1.551860e+02</td>\n",
       "      <td>9.999997e+06</td>\n",
       "      <td>1.960000e+02</td>\n",
       "      <td>1.960000e+02</td>\n",
       "      <td>1.000000e+02</td>\n",
       "      <td>5.890000e+01</td>\n",
       "      <td>1.400000e+02</td>\n",
       "      <td>1.087000e+03</td>\n",
       "      <td>2.400000e+01</td>\n",
       "    </tr>\n",
       "  </tbody>\n",
       "</table>\n",
       "</div>"
      ],
      "text/plain": [
       "           Severity     Start_Lat     Start_Lng       End_Lat       End_Lng  \\\n",
       "count  2.845342e+06  2.845342e+06  2.845342e+06  2.845342e+06  2.845342e+06   \n",
       "mean   2.137572e+00  3.624520e+01 -9.711463e+01  3.624532e+01 -9.711439e+01   \n",
       "std    4.787216e-01  5.363797e+00  1.831782e+01  5.363873e+00  1.831763e+01   \n",
       "min    1.000000e+00  2.456603e+01 -1.245481e+02  2.456601e+01 -1.245457e+02   \n",
       "25%    2.000000e+00  3.344517e+01 -1.180331e+02  3.344628e+01 -1.180333e+02   \n",
       "50%    2.000000e+00  3.609861e+01 -9.241808e+01  3.609799e+01 -9.241772e+01   \n",
       "75%    2.000000e+00  4.016024e+01 -8.037243e+01  4.016105e+01 -8.037338e+01   \n",
       "max    4.000000e+00  4.900058e+01 -6.711317e+01  4.907500e+01 -6.710924e+01   \n",
       "\n",
       "       Distance(mi)        Number  Temperature(F)  Wind_Chill(F)  \\\n",
       "count  2.845342e+06  1.101431e+06    2.776068e+06   2.375699e+06   \n",
       "mean   7.026779e-01  8.089408e+03    6.179356e+01   5.965823e+01   \n",
       "std    1.560361e+00  1.836009e+04    1.862263e+01   2.116097e+01   \n",
       "min    0.000000e+00  0.000000e+00   -8.900000e+01  -8.900000e+01   \n",
       "25%    5.200000e-02  1.270000e+03    5.000000e+01   4.600000e+01   \n",
       "50%    2.440000e-01  4.007000e+03    6.400000e+01   6.300000e+01   \n",
       "75%    7.640000e-01  9.567000e+03    7.600000e+01   7.600000e+01   \n",
       "max    1.551860e+02  9.999997e+06    1.960000e+02   1.960000e+02   \n",
       "\n",
       "        Humidity(%)  Pressure(in)  Visibility(mi)  Wind_Speed(mph)  \\\n",
       "count  2.772250e+06  2.786142e+06    2.774796e+06     2.687398e+06   \n",
       "mean   6.436545e+01  2.947234e+01    9.099391e+00     7.395044e+00   \n",
       "std    2.287457e+01  1.045286e+00    2.717546e+00     5.527454e+00   \n",
       "min    1.000000e+00  0.000000e+00    0.000000e+00     0.000000e+00   \n",
       "25%    4.800000e+01  2.931000e+01    1.000000e+01     3.500000e+00   \n",
       "50%    6.700000e+01  2.982000e+01    1.000000e+01     7.000000e+00   \n",
       "75%    8.300000e+01  3.001000e+01    1.000000e+01     1.000000e+01   \n",
       "max    1.000000e+02  5.890000e+01    1.400000e+02     1.087000e+03   \n",
       "\n",
       "       Precipitation(in)  \n",
       "count       2.295884e+06  \n",
       "mean        7.016940e-03  \n",
       "std         9.348831e-02  \n",
       "min         0.000000e+00  \n",
       "25%         0.000000e+00  \n",
       "50%         0.000000e+00  \n",
       "75%         0.000000e+00  \n",
       "max         2.400000e+01  "
      ]
     },
     "execution_count": 4,
     "metadata": {},
     "output_type": "execute_result"
    }
   ],
   "source": [
    "# Summary Statistics of the data\n",
    "print(\"Summary of the data:\")\n",
    "data.describe()"
   ]
  },
  {
   "cell_type": "code",
   "execution_count": 5,
   "id": "c4e9c400",
   "metadata": {},
   "outputs": [
    {
     "name": "stdout",
     "output_type": "stream",
     "text": [
      "Data Type:\n",
      "<class 'pandas.core.frame.DataFrame'>\n",
      "RangeIndex: 2845342 entries, 0 to 2845341\n",
      "Data columns (total 47 columns):\n",
      " #   Column                 Dtype  \n",
      "---  ------                 -----  \n",
      " 0   ID                     object \n",
      " 1   Severity               int64  \n",
      " 2   Start_Time             object \n",
      " 3   End_Time               object \n",
      " 4   Start_Lat              float64\n",
      " 5   Start_Lng              float64\n",
      " 6   End_Lat                float64\n",
      " 7   End_Lng                float64\n",
      " 8   Distance(mi)           float64\n",
      " 9   Description            object \n",
      " 10  Number                 float64\n",
      " 11  Street                 object \n",
      " 12  Side                   object \n",
      " 13  City                   object \n",
      " 14  County                 object \n",
      " 15  State                  object \n",
      " 16  Zipcode                object \n",
      " 17  Country                object \n",
      " 18  Timezone               object \n",
      " 19  Airport_Code           object \n",
      " 20  Weather_Timestamp      object \n",
      " 21  Temperature(F)         float64\n",
      " 22  Wind_Chill(F)          float64\n",
      " 23  Humidity(%)            float64\n",
      " 24  Pressure(in)           float64\n",
      " 25  Visibility(mi)         float64\n",
      " 26  Wind_Direction         object \n",
      " 27  Wind_Speed(mph)        float64\n",
      " 28  Precipitation(in)      float64\n",
      " 29  Weather_Condition      object \n",
      " 30  Amenity                bool   \n",
      " 31  Bump                   bool   \n",
      " 32  Crossing               bool   \n",
      " 33  Give_Way               bool   \n",
      " 34  Junction               bool   \n",
      " 35  No_Exit                bool   \n",
      " 36  Railway                bool   \n",
      " 37  Roundabout             bool   \n",
      " 38  Station                bool   \n",
      " 39  Stop                   bool   \n",
      " 40  Traffic_Calming        bool   \n",
      " 41  Traffic_Signal         bool   \n",
      " 42  Turning_Loop           bool   \n",
      " 43  Sunrise_Sunset         object \n",
      " 44  Civil_Twilight         object \n",
      " 45  Nautical_Twilight      object \n",
      " 46  Astronomical_Twilight  object \n",
      "dtypes: bool(13), float64(13), int64(1), object(20)\n",
      "memory usage: 773.4+ MB\n"
     ]
    }
   ],
   "source": [
    "# Data Type\n",
    "print(\"Data Type:\")\n",
    "data.info()"
   ]
  },
  {
   "cell_type": "code",
   "execution_count": 6,
   "id": "02756762",
   "metadata": {},
   "outputs": [
    {
     "name": "stdout",
     "output_type": "stream",
     "text": [
      "Dimension of the data after dropping: (2845342, 33)\n"
     ]
    }
   ],
   "source": [
    "# Dropping Un-relevant features like timestamps and location except the \"State\"\n",
    "    features_to_drop = [\"ID\", \"Start_Time\", \"End_Time\", \"Description\", \"Street\", \"County\", \"Zipcode\", \"Country\", \"Timezone\", \"Airport_Code\", \"Weather_Timestamp\", \"Sunrise_Sunset\", \"Nautical_Twilight\", \"Astronomical_Twilight\"]\n",
    "data = data.drop(features_to_drop, axis=1)\n",
    "\n",
    "print(\"Dimension of the data after dropping:\", data.shape)"
   ]
  },
  {
   "cell_type": "code",
   "execution_count": 7,
   "id": "0adb529f",
   "metadata": {},
   "outputs": [
    {
     "name": "stdout",
     "output_type": "stream",
     "text": [
      "Total number of missing entries: 3340483\n",
      "Features       ||     No. of Missing entries\n",
      "Severity                   0\n",
      "Amenity                    0\n",
      "Give_Way                   0\n",
      "Junction                   0\n",
      "Turning_Loop               0\n",
      "No_Exit                    0\n",
      "Railway                    0\n",
      "Roundabout                 0\n",
      "Station                    0\n",
      "Stop                       0\n",
      "Traffic_Calming            0\n",
      "State                      0\n",
      "Side                       0\n",
      "Traffic_Signal             0\n",
      "Distance(mi)               0\n",
      "End_Lng                    0\n",
      "End_Lat                    0\n",
      "Start_Lng                  0\n",
      "Start_Lat                  0\n",
      "Bump                       0\n",
      "Crossing                   0\n",
      "City                     137\n",
      "Civil_Twilight          2867\n",
      "Pressure(in)           59200\n",
      "Temperature(F)         69274\n",
      "Visibility(mi)         70546\n",
      "Weather_Condition      70636\n",
      "Humidity(%)            73092\n",
      "Wind_Direction         73775\n",
      "Wind_Speed(mph)       157944\n",
      "Wind_Chill(F)         469643\n",
      "Precipitation(in)     549458\n",
      "Number               1743911\n",
      "dtype: int64\n"
     ]
    }
   ],
   "source": [
    "# Getting total number of missing data\n",
    "print(\"Total number of missing entries:\", data.isna().sum().sum())\n",
    "\n",
    "# Retriving column wise missing data\n",
    "print(\"Features       ||     No. of Missing entries\")\n",
    "null = data.isna().sum().sort_values()\n",
    "print(null)"
   ]
  },
  {
   "cell_type": "code",
   "execution_count": 8,
   "id": "dc19cd32",
   "metadata": {},
   "outputs": [
    {
     "data": {
      "text/plain": [
       "(['Civil_Twilight',\n",
       "  'Pressure(in)',\n",
       "  'Temperature(F)',\n",
       "  'Visibility(mi)',\n",
       "  'Weather_Condition',\n",
       "  'Humidity(%)',\n",
       "  'Wind_Direction',\n",
       "  'Wind_Speed(mph)',\n",
       "  'Wind_Chill(F)',\n",
       "  'Precipitation(in)',\n",
       "  'Number'],\n",
       " 11)"
      ]
     },
     "execution_count": 8,
     "metadata": {},
     "output_type": "execute_result"
    }
   ],
   "source": [
    "# Retriving the only columns that are having missing values above 500\n",
    "list(null[null>500].index.values), len(null[null>500].index.values)"
   ]
  },
  {
   "cell_type": "markdown",
   "id": "b50177ff",
   "metadata": {},
   "source": [
    "We have a total of 18 Columns with missing values above 500"
   ]
  },
  {
   "cell_type": "code",
   "execution_count": 9,
   "id": "54c3c0ed",
   "metadata": {},
   "outputs": [
    {
     "data": {
      "text/plain": [
       "<AxesSubplot:>"
      ]
     },
     "execution_count": 9,
     "metadata": {},
     "output_type": "execute_result"
    },
    {
     "data": {
      "image/png": "[encoded data removed]",
      "text/plain": [
       "<Figure size 720x432 with 1 Axes>"
      ]
     },
     "metadata": {
      "needs_background": "light"
     },
     "output_type": "display_data"
    }
   ],
   "source": [
    "# Plotting a graph for missing value\n",
    "plt.figure(figsize=(10, 6))\n",
    "null[null!=0].plot(kind='barh')"
   ]
  },
  {
   "cell_type": "markdown",
   "id": "7344fbd9",
   "metadata": {},
   "source": [
    "We will drop the Column \"Number\" as we have no description on that and also it has more missing values"
   ]
  },
  {
   "cell_type": "code",
   "execution_count": 10,
   "id": "3e38ab3d",
   "metadata": {},
   "outputs": [
    {
     "name": "stdout",
     "output_type": "stream",
     "text": [
      "Shape of data after dropping: (2845342, 32)\n"
     ]
    }
   ],
   "source": [
    "# Dropping the Column:\"Numbers\"\n",
    "data = data.drop(columns=\"Number\")\n",
    "print(\"Shape of data after dropping:\", data.shape)"
   ]
  },
  {
   "cell_type": "code",
   "execution_count": 11,
   "id": "f5b309b0",
   "metadata": {},
   "outputs": [
    {
     "name": "stdout",
     "output_type": "stream",
     "text": [
      "Dimension of the data before dropping missing values: (2845342, 32)\n",
      "Dimension of the data after dropping missing values: (2207326, 32)\n"
     ]
    }
   ],
   "source": [
    "# Dropping the missing values\n",
    "df = data.dropna()\n",
    "print(\"Dimension of the data before dropping missing values:\", data.shape)\n",
    "print(\"Dimension of the data after dropping missing values:\", df.shape)"
   ]
  },
  {
   "cell_type": "code",
   "execution_count": 12,
   "id": "c0a744d4",
   "metadata": {},
   "outputs": [
    {
     "name": "stdout",
     "output_type": "stream",
     "text": [
      "Total no. of missing values: 0\n"
     ]
    }
   ],
   "source": [
    "# Checking for Null values\n",
    "print(\"Total no. of missing values:\", df.isna().sum().sum())"
   ]
  },
  {
   "cell_type": "code",
   "execution_count": 13,
   "id": "b35f0dcd",
   "metadata": {},
   "outputs": [
    {
     "name": "stderr",
     "output_type": "stream",
     "text": [
      "IOPub data rate exceeded.\n",
      "The notebook server will temporarily stop sending output\n",
      "to the client in order to avoid crashing it.\n",
      "To change this limit, set the config variable\n",
      "`--NotebookApp.iopub_data_rate_limit`.\n",
      "\n",
      "Current values:\n",
      "NotebookApp.iopub_data_rate_limit=1000000.0 (bytes/sec)\n",
      "NotebookApp.rate_limit_window=3.0 (secs)\n",
      "\n"
     ]
    }
   ],
   "source": [
    "# Looking for duplicate entries\n",
    "duplicateRows = df[df.duplicated()]\n",
    "print(duplicateRows) # No duplicate entries are found"
   ]
  },
  {
   "cell_type": "code",
   "execution_count": 14,
   "id": "dde19b84",
   "metadata": {},
   "outputs": [
    {
     "name": "stdout",
     "output_type": "stream",
     "text": [
      "Severity             1.000000\n",
      "End_Lng              0.089612\n",
      "Start_Lng            0.089610\n",
      "End_Lat              0.086241\n",
      "Start_Lat            0.086238\n",
      "Distance(mi)         0.062377\n",
      "Junction             0.040931\n",
      "Humidity(%)          0.032018\n",
      "Wind_Speed(mph)      0.025306\n",
      "Give_Way             0.006676\n",
      "Precipitation(in)    0.004666\n",
      "Roundabout          -0.001147\n",
      "Stop                -0.001350\n",
      "Railway             -0.001554\n",
      "Traffic_Calming     -0.002072\n",
      "Bump                -0.002389\n",
      "Amenity             -0.003545\n",
      "No_Exit             -0.003726\n",
      "Traffic_Signal      -0.009883\n",
      "Visibility(mi)      -0.011187\n",
      "Station             -0.014802\n",
      "Crossing            -0.035509\n",
      "Temperature(F)      -0.038539\n",
      "Wind_Chill(F)       -0.041909\n",
      "Pressure(in)        -0.042316\n",
      "Turning_Loop              NaN\n",
      "Name: Severity, dtype: float64\n"
     ]
    }
   ],
   "source": [
    "# Correlation\n",
    "correlation = df.corr()\n",
    "print(correlation[\"Severity\"].sort_values(ascending=False))"
   ]
  },
  {
   "cell_type": "markdown",
   "id": "ab59b8a7",
   "metadata": {},
   "source": [
    "Since, no variable is highly correlated with our target variable \"Severity\", we dont have multicollinearity with the data against Severity. So we will now check for correlation against the independent variables."
   ]
  },
  {
   "cell_type": "code",
   "execution_count": 15,
   "id": "e97cad8e",
   "metadata": {},
   "outputs": [
    {
     "data": {
      "text/plain": [
       "<AxesSubplot:>"
      ]
     },
     "execution_count": 15,
     "metadata": {},
     "output_type": "execute_result"
    },
    {
     "data": {
      "image/png": "[encoded data removed]",
      "text/plain": [
       "<Figure size 1000x700 with 2 Axes>"
      ]
     },
     "metadata": {
      "needs_background": "light"
     },
     "output_type": "display_data"
    }
   ],
   "source": [
    "# Correlation: Heatmap\n",
    "corr_matrix = df.corr()\n",
    "corr_matrix\n",
    "\n",
    "plt.figure(figsize=(10, 7), dpi=100)\n",
    "sns.heatmap(corr_matrix)"
   ]
  },
  {
   "cell_type": "code",
   "execution_count": 16,
   "id": "e46d5e0b",
   "metadata": {},
   "outputs": [
    {
     "name": "stdout",
     "output_type": "stream",
     "text": [
      "Correlation between Starting and Ending Longitude of the accident location is 0.999999207784793\n",
      "Correlation between Starting and Ending Latitude of the accident location is 0.9999955926592332\n",
      "Correlation between Temperature and Wind_Chill is 0.9939167966376544\n"
     ]
    }
   ],
   "source": [
    "# Correlation between Logitude and Latitude\n",
    "print(\"Correlation between Starting and Ending Longitude of the accident location is\", df[\"Start_Lng\"].corr(df[\"End_Lng\"]))\n",
    "print(\"Correlation between Starting and Ending Latitude of the accident location is\", df[\"Start_Lat\"].corr(df[\"End_Lat\"]))\n",
    "\n",
    "# Correlation between Temperature and Wind_Chill\n",
    "print(\"Correlation between Temperature and Wind_Chill is\", df[\"Temperature(F)\"].corr(df[\"Wind_Chill(F)\"]))"
   ]
  },
  {
   "cell_type": "markdown",
   "id": "2899ca52",
   "metadata": {},
   "source": [
    "From the Correlation plot, we can see that the independant variables \"End_Lat & Start_Lat => 0.99\" and \n",
    "\"Wind_Chill(F) & Temperature(F) => 0.99\" are highly correlated, So dropping either one of the variables between them will prevent multicollinearity. \n",
    "\n",
    "Practically, almost 99% of the time, Starting and Ending point of the accident location is same, which is natural as the accident location may not change expect just going to either side of road and that distance is negligible. So we can eliminate either one of the points.\n",
    "\n",
    "Also, we can drop either Temperature or Wind_Chill, as they have higher correlation."
   ]
  },
  {
   "cell_type": "code",
   "execution_count": 17,
   "id": "0094cc61",
   "metadata": {},
   "outputs": [
    {
     "name": "stdout",
     "output_type": "stream",
     "text": [
      "Shape of data after dropping: (2207326, 29)\n"
     ]
    }
   ],
   "source": [
    "# Dropping Longitude and Latitude of the Ending point and Wind_Chill(F)\n",
    "df = df.drop(columns = [\"End_Lng\", \"End_Lat\", \"Wind_Chill(F)\"])\n",
    "print(\"Shape of data after dropping:\", df.shape)"
   ]
  },
  {
   "cell_type": "markdown",
   "id": "b79ef033",
   "metadata": {},
   "source": [
    "# EDA"
   ]
  },
  {
   "cell_type": "code",
   "execution_count": 18,
   "id": "6073a3af",
   "metadata": {},
   "outputs": [
    {
     "data": {
      "text/plain": [
       "Text(0.5, 1.0, 'States with No. of Accidents')"
      ]
     },
     "execution_count": 18,
     "metadata": {},
     "output_type": "execute_result"
    },
    {
     "data": {
      "image/png": "[encoded data removed]",
      "text/plain": [
       "<Figure size 1080x720 with 1 Axes>"
      ]
     },
     "metadata": {},
     "output_type": "display_data"
    }
   ],
   "source": [
    "# State Vs Severity\n",
    "sns.set(style=\"whitegrid\")\n",
    "plt.figure(figsize=(15, 10))\n",
    "sns.countplot(data['State'])\n",
    "plt.title(\"States with No. of Accidents\")"
   ]
  },
  {
   "cell_type": "code",
   "execution_count": 19,
   "id": "d073ca26",
   "metadata": {},
   "outputs": [
    {
     "data": {
      "text/plain": [
       "Text(0.5, 1.0, 'Accident: Top 20 Cities')"
      ]
     },
     "execution_count": 19,
     "metadata": {},
     "output_type": "execute_result"
    },
    {
     "data": {
      "image/png": "[encoded data removed]",
      "text/plain": [
       "<Figure size 1080x720 with 1 Axes>"
      ]
     },
     "metadata": {},
     "output_type": "display_data"
    }
   ],
   "source": [
    "# Top Cities with most accidents\n",
    "plt.figure(figsize=(15,10))\n",
    "cities_by_accident = data.City.value_counts()\n",
    "cities_by_accident[:20].plot(kind='barh')\n",
    "plt.title(\"Accident: Top 20 Cities\")"
   ]
  },
  {
   "cell_type": "code",
   "execution_count": 20,
   "id": "9cfc6dcc",
   "metadata": {},
   "outputs": [
    {
     "data": {
      "image/png": "[encoded data removed]",
      "text/plain": [
       "<Figure size 1080x720 with 1 Axes>"
      ]
     },
     "metadata": {},
     "output_type": "display_data"
    }
   ],
   "source": [
    "# Accident VS Road Features\n",
    "road_features = [\"Amenity\", \"Bump\", \"Crossing\", \"Give_Way\", \"Junction\", \"No_Exit\", \"Railway\", \"Roundabout\", \"Station\", \"Stop\", \"Traffic_Calming\", \"Traffic_Signal\", \"Turning_Loop\"]\n",
    "feat = df[road_features].sum().sort_values(ascending=False)\n",
    "\n",
    "plt.figure(figsize=(15, 10))\n",
    "plt.title(\"Most frequent road features\")\n",
    "sns.barplot(feat.values, feat.index, orient=\"h\")\n",
    "plt.xlabel(\"Value\")\n",
    "plt.ylabel(\"Road feature\")\n",
    "plt.show()"
   ]
  },
  {
   "cell_type": "markdown",
   "id": "93d6ee8c",
   "metadata": {},
   "source": [
    "Lets take a closer look at Turning_Loop and Roundabout."
   ]
  },
  {
   "cell_type": "code",
   "execution_count": 21,
   "id": "f28c0983",
   "metadata": {},
   "outputs": [
    {
     "data": {
      "image/png": "[encoded data removed]",
      "text/plain": [
       "<Figure size 360x144 with 1 Axes>"
      ]
     },
     "metadata": {},
     "output_type": "display_data"
    }
   ],
   "source": [
    "close_road_features = [\"Roundabout\", \"Turning_Loop\"]\n",
    "close_feat = df[close_road_features].sum().sort_values(ascending=False)\n",
    "\n",
    "plt.figure(figsize=(5, 2))\n",
    "plt.title(\"Most frequent road features\")\n",
    "sns.barplot(close_feat.values, close_feat.index, orient=\"h\")\n",
    "plt.xlabel(\"Value\")\n",
    "plt.ylabel(\"Road feature\")\n",
    "plt.show()"
   ]
  },
  {
   "cell_type": "markdown",
   "id": "9139b18e",
   "metadata": {},
   "source": [
    "From the graph it is noted that Turning_Loop doesn't have any accidents. So we can drop that variable."
   ]
  },
  {
   "cell_type": "code",
   "execution_count": 22,
   "id": "61b02028",
   "metadata": {},
   "outputs": [
    {
     "name": "stdout",
     "output_type": "stream",
     "text": [
      "Shape of data after dropping: (2207326, 28)\n"
     ]
    }
   ],
   "source": [
    "# Dropping Turning_Loop\n",
    "df = df.drop(columns = [\"Turning_Loop\"])\n",
    "print(\"Shape of data after dropping:\", df.shape)"
   ]
  },
  {
   "cell_type": "code",
   "execution_count": 23,
   "id": "bb2335e4",
   "metadata": {},
   "outputs": [
    {
     "name": "stdout",
     "output_type": "stream",
     "text": [
      "Number of unique values in Weather_Condition: 114\n"
     ]
    },
    {
     "data": {
      "image/png": "[encoded data removed]",
      "text/plain": [
       "<Figure size 1440x576 with 1 Axes>"
      ]
     },
     "metadata": {},
     "output_type": "display_data"
    }
   ],
   "source": [
    "# Accidents VS Weather_Conditions\n",
    "print(\"Number of unique values in Weather_Condition:\", len(list(df[\"Weather_Condition\"].unique())))\n",
    "\n",
    "counts = df[\"Weather_Condition\"].value_counts()[:10]\n",
    "plt.figure(figsize=(20, 8))\n",
    "plt.title(\"Histogram distribution of the top 10 weather conditions\")\n",
    "sns.barplot(counts.index, counts.values)\n",
    "plt.xlabel(\"Weather Condition\")\n",
    "plt.ylabel(\"Value\")\n",
    "plt.show()"
   ]
  },
  {
   "cell_type": "code",
   "execution_count": 24,
   "id": "76d15a05",
   "metadata": {},
   "outputs": [
    {
     "data": {
      "image/png": "[encoded data removed]",
      "text/plain": [
       "<Figure size 864x576 with 1 Axes>"
      ]
     },
     "metadata": {},
     "output_type": "display_data"
    }
   ],
   "source": [
    "# Severity VS Temperature(F)\n",
    "plt.figure(figsize=(12,8))\n",
    "sns.boxplot(df[\"Severity\"], df[\"Temperature(F)\"])\n",
    "plt.xticks(rotation='vertical')\n",
    "plt.show()"
   ]
  },
  {
   "cell_type": "markdown",
   "id": "7651f68c",
   "metadata": {},
   "source": [
    "From the plot above, it noted that almost all the Accidents occur at normal temperature between 55-80 F."
   ]
  },
  {
   "cell_type": "code",
   "execution_count": 25,
   "id": "c33760de",
   "metadata": {},
   "outputs": [
    {
     "data": {
      "text/plain": [
       "Text(0.5, 0, 'Severity')"
      ]
     },
     "execution_count": 25,
     "metadata": {},
     "output_type": "execute_result"
    },
    {
     "data": {
      "image/png": "[encoded data removed]",
      "text/plain": [
       "<Figure size 864x648 with 1 Axes>"
      ]
     },
     "metadata": {},
     "output_type": "display_data"
    }
   ],
   "source": [
    "# Histogram plot for the feature, \"Severity\"\n",
    "plt.figure(figsize=(12,9))\n",
    "sns.histplot(df[\"Severity\"])\n",
    "plt.title(\"Distibution of the Feature: Severity\")\n",
    "plt.xlabel(\"Severity\")"
   ]
  },
  {
   "cell_type": "markdown",
   "id": "8c3c9ffc",
   "metadata": {},
   "source": [
    "Data is severly imbalanced with Severity(2) having a very high number of observations than the other categories in that label.\n",
    "\n",
    "Since we have more data we can perform Undersampling the data."
   ]
  },
  {
   "cell_type": "code",
   "execution_count": 26,
   "id": "eac49ede",
   "metadata": {},
   "outputs": [],
   "source": [
    "size = len(df[df[\"Severity\"]==1].index)\n",
    "bal_df = pd.DataFrame()\n",
    "for i in range(1,5):\n",
    "    S = df[df[\"Severity\"]==i]\n",
    "    bal_df = bal_df.append(S.sample(size, random_state=42))\n",
    "df = bal_df"
   ]
  },
  {
   "cell_type": "code",
   "execution_count": 27,
   "id": "87844073",
   "metadata": {},
   "outputs": [
    {
     "data": {
      "text/plain": [
       "Text(0.5, 0, 'Severity')"
      ]
     },
     "execution_count": 27,
     "metadata": {},
     "output_type": "execute_result"
    },
    {
     "data": {
      "image/png": "[encoded data removed]",
      "text/plain": [
       "<Figure size 864x648 with 1 Axes>"
      ]
     },
     "metadata": {},
     "output_type": "display_data"
    }
   ],
   "source": [
    "# Histogram plot for the feature, \"Severity\"\n",
    "plt.figure(figsize=(12,9))\n",
    "sns.histplot(df[\"Severity\"])\n",
    "plt.title(\"Distibution of the Feature: Severity\")\n",
    "plt.xlabel(\"Severity\")"
   ]
  },
  {
   "cell_type": "markdown",
   "id": "1e374850",
   "metadata": {},
   "source": [
    "Now the data look more appealing"
   ]
  },
  {
   "cell_type": "code",
   "execution_count": 28,
   "id": "a637a159",
   "metadata": {},
   "outputs": [
    {
     "name": "stdout",
     "output_type": "stream",
     "text": [
      "Dimension of the data after undersampling is (94224, 28)\n"
     ]
    }
   ],
   "source": [
    "print(\"Dimension of the data after undersampling is\", df.shape)"
   ]
  },
  {
   "cell_type": "markdown",
   "id": "47551094",
   "metadata": {},
   "source": [
    "# Dummies"
   ]
  },
  {
   "cell_type": "code",
   "execution_count": 29,
   "id": "28074318",
   "metadata": {},
   "outputs": [
    {
     "name": "stdout",
     "output_type": "stream",
     "text": [
      "<class 'pandas.core.frame.DataFrame'>\n",
      "Int64Index: 94224 entries, 2111274 to 2275923\n",
      "Data columns (total 28 columns):\n",
      " #   Column             Non-Null Count  Dtype  \n",
      "---  ------             --------------  -----  \n",
      " 0   Severity           94224 non-null  int64  \n",
      " 1   Start_Lat          94224 non-null  float64\n",
      " 2   Start_Lng          94224 non-null  float64\n",
      " 3   Distance(mi)       94224 non-null  float64\n",
      " 4   Side               94224 non-null  object \n",
      " 5   City               94224 non-null  object \n",
      " 6   State              94224 non-null  object \n",
      " 7   Temperature(F)     94224 non-null  float64\n",
      " 8   Humidity(%)        94224 non-null  float64\n",
      " 9   Pressure(in)       94224 non-null  float64\n",
      " 10  Visibility(mi)     94224 non-null  float64\n",
      " 11  Wind_Direction     94224 non-null  object \n",
      " 12  Wind_Speed(mph)    94224 non-null  float64\n",
      " 13  Precipitation(in)  94224 non-null  float64\n",
      " 14  Weather_Condition  94224 non-null  object \n",
      " 15  Amenity            94224 non-null  bool   \n",
      " 16  Bump               94224 non-null  bool   \n",
      " 17  Crossing           94224 non-null  bool   \n",
      " 18  Give_Way           94224 non-null  bool   \n",
      " 19  Junction           94224 non-null  bool   \n",
      " 20  No_Exit            94224 non-null  bool   \n",
      " 21  Railway            94224 non-null  bool   \n",
      " 22  Roundabout         94224 non-null  bool   \n",
      " 23  Station            94224 non-null  bool   \n",
      " 24  Stop               94224 non-null  bool   \n",
      " 25  Traffic_Calming    94224 non-null  bool   \n",
      " 26  Traffic_Signal     94224 non-null  bool   \n",
      " 27  Civil_Twilight     94224 non-null  object \n",
      "dtypes: bool(12), float64(9), int64(1), object(6)\n",
      "memory usage: 13.3+ MB\n"
     ]
    }
   ],
   "source": [
    "df.info()"
   ]
  },
  {
   "cell_type": "markdown",
   "id": "b0e60539",
   "metadata": {},
   "source": [
    "First, we will convert the boolean Column into 1 and 0"
   ]
  },
  {
   "cell_type": "code",
   "execution_count": 30,
   "id": "ec3ffdfc",
   "metadata": {},
   "outputs": [
    {
     "name": "stdout",
     "output_type": "stream",
     "text": [
      "Shape of y is (94224,)\n",
      "Shape of x is (94224, 27)\n"
     ]
    }
   ],
   "source": [
    "x = df.iloc[:, 1:28] # Collecting all expect the first column which is Severity\n",
    "y = df[\"Severity\"]\n",
    "\n",
    "print(\"Shape of y is\", y.shape)\n",
    "print(\"Shape of x is\", x.shape)"
   ]
  },
  {
   "cell_type": "code",
   "execution_count": 31,
   "id": "66e3786f",
   "metadata": {},
   "outputs": [],
   "source": [
    "# Replacing \"Bool\" into \"int\"\n",
    "x = x.replace([True, False], [1, 0])"
   ]
  },
  {
   "cell_type": "code",
   "execution_count": 32,
   "id": "e13713cc",
   "metadata": {},
   "outputs": [],
   "source": [
    "# x.head()"
   ]
  },
  {
   "cell_type": "code",
   "execution_count": 33,
   "id": "e20cf979",
   "metadata": {},
   "outputs": [
    {
     "data": {
      "text/html": [
       "<div>\n",
       "<style scoped>\n",
       "    .dataframe tbody tr th:only-of-type {\n",
       "        vertical-align: middle;\n",
       "    }\n",
       "\n",
       "    .dataframe tbody tr th {\n",
       "        vertical-align: top;\n",
       "    }\n",
       "\n",
       "    .dataframe thead th {\n",
       "        text-align: right;\n",
       "    }\n",
       "</style>\n",
       "<table border=\"1\" class=\"dataframe\">\n",
       "  <thead>\n",
       "    <tr style=\"text-align: right;\">\n",
       "      <th></th>\n",
       "      <th>Start_Lat</th>\n",
       "      <th>Start_Lng</th>\n",
       "      <th>Distance(mi)</th>\n",
       "      <th>Temperature(F)</th>\n",
       "      <th>Humidity(%)</th>\n",
       "      <th>Pressure(in)</th>\n",
       "      <th>Visibility(mi)</th>\n",
       "      <th>Wind_Speed(mph)</th>\n",
       "      <th>Precipitation(in)</th>\n",
       "      <th>Amenity</th>\n",
       "      <th>Bump</th>\n",
       "      <th>Crossing</th>\n",
       "      <th>Give_Way</th>\n",
       "      <th>Junction</th>\n",
       "      <th>No_Exit</th>\n",
       "      <th>Railway</th>\n",
       "      <th>Roundabout</th>\n",
       "      <th>Station</th>\n",
       "      <th>Stop</th>\n",
       "      <th>Traffic_Calming</th>\n",
       "      <th>Traffic_Signal</th>\n",
       "      <th>Side_R</th>\n",
       "      <th>Wind_Direction_E</th>\n",
       "      <th>Wind_Direction_ENE</th>\n",
       "      <th>Wind_Direction_ESE</th>\n",
       "      <th>Wind_Direction_East</th>\n",
       "      <th>Wind_Direction_N</th>\n",
       "      <th>Wind_Direction_NE</th>\n",
       "      <th>Wind_Direction_NNE</th>\n",
       "      <th>Wind_Direction_NNW</th>\n",
       "      <th>Wind_Direction_NW</th>\n",
       "      <th>Wind_Direction_North</th>\n",
       "      <th>Wind_Direction_S</th>\n",
       "      <th>Wind_Direction_SE</th>\n",
       "      <th>Wind_Direction_SSE</th>\n",
       "      <th>Wind_Direction_SSW</th>\n",
       "      <th>Wind_Direction_SW</th>\n",
       "      <th>Wind_Direction_South</th>\n",
       "      <th>Wind_Direction_VAR</th>\n",
       "      <th>Wind_Direction_Variable</th>\n",
       "      <th>Wind_Direction_W</th>\n",
       "      <th>Wind_Direction_WNW</th>\n",
       "      <th>Wind_Direction_WSW</th>\n",
       "      <th>Wind_Direction_West</th>\n",
       "      <th>Weather_Condition_Blowing Dust / Windy</th>\n",
       "      <th>Weather_Condition_Blowing Snow</th>\n",
       "      <th>Weather_Condition_Clear</th>\n",
       "      <th>Weather_Condition_Cloudy</th>\n",
       "      <th>Weather_Condition_Cloudy / Windy</th>\n",
       "      <th>Weather_Condition_Drizzle</th>\n",
       "      <th>Weather_Condition_Drizzle / Windy</th>\n",
       "      <th>Weather_Condition_Drizzle and Fog</th>\n",
       "      <th>Weather_Condition_Fair</th>\n",
       "      <th>Weather_Condition_Fair / Windy</th>\n",
       "      <th>Weather_Condition_Fog</th>\n",
       "      <th>Weather_Condition_Fog / Windy</th>\n",
       "      <th>Weather_Condition_Freezing Rain</th>\n",
       "      <th>Weather_Condition_Haze</th>\n",
       "      <th>Weather_Condition_Haze / Windy</th>\n",
       "      <th>Weather_Condition_Heavy Drizzle</th>\n",
       "      <th>Weather_Condition_Heavy Rain</th>\n",
       "      <th>Weather_Condition_Heavy Rain / Windy</th>\n",
       "      <th>Weather_Condition_Heavy Rain Shower</th>\n",
       "      <th>Weather_Condition_Heavy Snow</th>\n",
       "      <th>Weather_Condition_Heavy Snow / Windy</th>\n",
       "      <th>Weather_Condition_Heavy T-Storm</th>\n",
       "      <th>Weather_Condition_Heavy T-Storm / Windy</th>\n",
       "      <th>Weather_Condition_Heavy Thunderstorms and Rain</th>\n",
       "      <th>Weather_Condition_Ice Pellets</th>\n",
       "      <th>Weather_Condition_Light Blowing Snow</th>\n",
       "      <th>Weather_Condition_Light Drizzle</th>\n",
       "      <th>Weather_Condition_Light Drizzle / Windy</th>\n",
       "      <th>Weather_Condition_Light Freezing Drizzle</th>\n",
       "      <th>Weather_Condition_Light Freezing Fog</th>\n",
       "      <th>Weather_Condition_Light Freezing Rain</th>\n",
       "      <th>Weather_Condition_Light Freezing Rain / Windy</th>\n",
       "      <th>Weather_Condition_Light Ice Pellets</th>\n",
       "      <th>Weather_Condition_Light Rain</th>\n",
       "      <th>Weather_Condition_Light Rain / Windy</th>\n",
       "      <th>Weather_Condition_Light Rain Shower</th>\n",
       "      <th>Weather_Condition_Light Rain with Thunder</th>\n",
       "      <th>Weather_Condition_Light Sleet</th>\n",
       "      <th>Weather_Condition_Light Snow</th>\n",
       "      <th>Weather_Condition_Light Snow / Windy</th>\n",
       "      <th>Weather_Condition_Light Snow and Sleet / Windy</th>\n",
       "      <th>Weather_Condition_Light Snow with Thunder</th>\n",
       "      <th>Weather_Condition_Light Thunderstorms and Rain</th>\n",
       "      <th>Weather_Condition_Light Thunderstorms and Snow</th>\n",
       "      <th>Weather_Condition_Mist</th>\n",
       "      <th>Weather_Condition_Mostly Cloudy</th>\n",
       "      <th>Weather_Condition_Mostly Cloudy / Windy</th>\n",
       "      <th>Weather_Condition_N/A Precipitation</th>\n",
       "      <th>Weather_Condition_Overcast</th>\n",
       "      <th>Weather_Condition_Partly Cloudy</th>\n",
       "      <th>Weather_Condition_Partly Cloudy / Windy</th>\n",
       "      <th>Weather_Condition_Patches of Fog</th>\n",
       "      <th>Weather_Condition_Patches of Fog / Windy</th>\n",
       "      <th>Weather_Condition_Rain</th>\n",
       "      <th>Weather_Condition_Rain / Windy</th>\n",
       "      <th>Weather_Condition_Sand / Dust Whirlwinds</th>\n",
       "      <th>Weather_Condition_Scattered Clouds</th>\n",
       "      <th>Weather_Condition_Shallow Fog</th>\n",
       "      <th>Weather_Condition_Showers in the Vicinity</th>\n",
       "      <th>Weather_Condition_Sleet</th>\n",
       "      <th>Weather_Condition_Small Hail</th>\n",
       "      <th>Weather_Condition_Smoke</th>\n",
       "      <th>Weather_Condition_Smoke / Windy</th>\n",
       "      <th>Weather_Condition_Snow</th>\n",
       "      <th>Weather_Condition_Snow / Windy</th>\n",
       "      <th>Weather_Condition_Snow and Sleet</th>\n",
       "      <th>Weather_Condition_Squalls / Windy</th>\n",
       "      <th>Weather_Condition_T-Storm</th>\n",
       "      <th>Weather_Condition_T-Storm / Windy</th>\n",
       "      <th>Weather_Condition_Thunder</th>\n",
       "      <th>Weather_Condition_Thunder / Windy</th>\n",
       "      <th>Weather_Condition_Thunder and Hail</th>\n",
       "      <th>Weather_Condition_Thunder and Hail / Windy</th>\n",
       "      <th>Weather_Condition_Thunder in the Vicinity</th>\n",
       "      <th>Weather_Condition_Thunderstorms and Rain</th>\n",
       "      <th>Weather_Condition_Widespread Dust</th>\n",
       "      <th>Weather_Condition_Wintry Mix</th>\n",
       "      <th>Weather_Condition_Wintry Mix / Windy</th>\n",
       "      <th>Civil_Twilight_Night</th>\n",
       "    </tr>\n",
       "  </thead>\n",
       "  <tbody>\n",
       "    <tr>\n",
       "      <th>2111274</th>\n",
       "      <td>40.86161</td>\n",
       "      <td>-111.92986</td>\n",
       "      <td>0.0</td>\n",
       "      <td>79.0</td>\n",
       "      <td>18.0</td>\n",
       "      <td>25.41</td>\n",
       "      <td>8.0</td>\n",
       "      <td>21.0</td>\n",
       "      <td>0.0</td>\n",
       "      <td>0</td>\n",
       "      <td>0</td>\n",
       "      <td>0</td>\n",
       "      <td>0</td>\n",
       "      <td>0</td>\n",
       "      <td>0</td>\n",
       "      <td>0</td>\n",
       "      <td>0</td>\n",
       "      <td>0</td>\n",
       "      <td>0</td>\n",
       "      <td>0</td>\n",
       "      <td>1</td>\n",
       "      <td>1</td>\n",
       "      <td>0</td>\n",
       "      <td>0</td>\n",
       "      <td>0</td>\n",
       "      <td>0</td>\n",
       "      <td>0</td>\n",
       "      <td>0</td>\n",
       "      <td>0</td>\n",
       "      <td>0</td>\n",
       "      <td>1</td>\n",
       "      <td>0</td>\n",
       "      <td>0</td>\n",
       "      <td>0</td>\n",
       "      <td>0</td>\n",
       "      <td>0</td>\n",
       "      <td>0</td>\n",
       "      <td>0</td>\n",
       "      <td>0</td>\n",
       "      <td>0</td>\n",
       "      <td>0</td>\n",
       "      <td>0</td>\n",
       "      <td>0</td>\n",
       "      <td>0</td>\n",
       "      <td>0</td>\n",
       "      <td>0</td>\n",
       "      <td>0</td>\n",
       "      <td>0</td>\n",
       "      <td>0</td>\n",
       "      <td>0</td>\n",
       "      <td>0</td>\n",
       "      <td>0</td>\n",
       "      <td>0</td>\n",
       "      <td>0</td>\n",
       "      <td>0</td>\n",
       "      <td>0</td>\n",
       "      <td>0</td>\n",
       "      <td>0</td>\n",
       "      <td>0</td>\n",
       "      <td>0</td>\n",
       "      <td>0</td>\n",
       "      <td>0</td>\n",
       "      <td>0</td>\n",
       "      <td>0</td>\n",
       "      <td>0</td>\n",
       "      <td>0</td>\n",
       "      <td>0</td>\n",
       "      <td>0</td>\n",
       "      <td>0</td>\n",
       "      <td>0</td>\n",
       "      <td>0</td>\n",
       "      <td>0</td>\n",
       "      <td>0</td>\n",
       "      <td>0</td>\n",
       "      <td>0</td>\n",
       "      <td>0</td>\n",
       "      <td>0</td>\n",
       "      <td>0</td>\n",
       "      <td>0</td>\n",
       "      <td>0</td>\n",
       "      <td>0</td>\n",
       "      <td>0</td>\n",
       "      <td>0</td>\n",
       "      <td>0</td>\n",
       "      <td>0</td>\n",
       "      <td>0</td>\n",
       "      <td>0</td>\n",
       "      <td>0</td>\n",
       "      <td>0</td>\n",
       "      <td>0</td>\n",
       "      <td>1</td>\n",
       "      <td>0</td>\n",
       "      <td>0</td>\n",
       "      <td>0</td>\n",
       "      <td>0</td>\n",
       "      <td>0</td>\n",
       "      <td>0</td>\n",
       "      <td>0</td>\n",
       "      <td>0</td>\n",
       "      <td>0</td>\n",
       "      <td>0</td>\n",
       "      <td>0</td>\n",
       "      <td>0</td>\n",
       "      <td>0</td>\n",
       "      <td>0</td>\n",
       "      <td>0</td>\n",
       "      <td>0</td>\n",
       "      <td>0</td>\n",
       "      <td>0</td>\n",
       "      <td>0</td>\n",
       "      <td>0</td>\n",
       "      <td>0</td>\n",
       "      <td>0</td>\n",
       "      <td>0</td>\n",
       "      <td>0</td>\n",
       "      <td>0</td>\n",
       "      <td>0</td>\n",
       "      <td>0</td>\n",
       "      <td>0</td>\n",
       "      <td>0</td>\n",
       "      <td>0</td>\n",
       "      <td>0</td>\n",
       "      <td>0</td>\n",
       "    </tr>\n",
       "    <tr>\n",
       "      <th>2104185</th>\n",
       "      <td>32.28663</td>\n",
       "      <td>-110.96110</td>\n",
       "      <td>0.0</td>\n",
       "      <td>93.0</td>\n",
       "      <td>8.0</td>\n",
       "      <td>27.14</td>\n",
       "      <td>10.0</td>\n",
       "      <td>7.0</td>\n",
       "      <td>0.0</td>\n",
       "      <td>0</td>\n",
       "      <td>0</td>\n",
       "      <td>0</td>\n",
       "      <td>0</td>\n",
       "      <td>0</td>\n",
       "      <td>0</td>\n",
       "      <td>0</td>\n",
       "      <td>0</td>\n",
       "      <td>0</td>\n",
       "      <td>0</td>\n",
       "      <td>0</td>\n",
       "      <td>1</td>\n",
       "      <td>1</td>\n",
       "      <td>0</td>\n",
       "      <td>0</td>\n",
       "      <td>0</td>\n",
       "      <td>0</td>\n",
       "      <td>0</td>\n",
       "      <td>0</td>\n",
       "      <td>0</td>\n",
       "      <td>0</td>\n",
       "      <td>1</td>\n",
       "      <td>0</td>\n",
       "      <td>0</td>\n",
       "      <td>0</td>\n",
       "      <td>0</td>\n",
       "      <td>0</td>\n",
       "      <td>0</td>\n",
       "      <td>0</td>\n",
       "      <td>0</td>\n",
       "      <td>0</td>\n",
       "      <td>0</td>\n",
       "      <td>0</td>\n",
       "      <td>0</td>\n",
       "      <td>0</td>\n",
       "      <td>0</td>\n",
       "      <td>0</td>\n",
       "      <td>0</td>\n",
       "      <td>0</td>\n",
       "      <td>0</td>\n",
       "      <td>0</td>\n",
       "      <td>0</td>\n",
       "      <td>0</td>\n",
       "      <td>1</td>\n",
       "      <td>0</td>\n",
       "      <td>0</td>\n",
       "      <td>0</td>\n",
       "      <td>0</td>\n",
       "      <td>0</td>\n",
       "      <td>0</td>\n",
       "      <td>0</td>\n",
       "      <td>0</td>\n",
       "      <td>0</td>\n",
       "      <td>0</td>\n",
       "      <td>0</td>\n",
       "      <td>0</td>\n",
       "      <td>0</td>\n",
       "      <td>0</td>\n",
       "      <td>0</td>\n",
       "      <td>0</td>\n",
       "      <td>0</td>\n",
       "      <td>0</td>\n",
       "      <td>0</td>\n",
       "      <td>0</td>\n",
       "      <td>0</td>\n",
       "      <td>0</td>\n",
       "      <td>0</td>\n",
       "      <td>0</td>\n",
       "      <td>0</td>\n",
       "      <td>0</td>\n",
       "      <td>0</td>\n",
       "      <td>0</td>\n",
       "      <td>0</td>\n",
       "      <td>0</td>\n",
       "      <td>0</td>\n",
       "      <td>0</td>\n",
       "      <td>0</td>\n",
       "      <td>0</td>\n",
       "      <td>0</td>\n",
       "      <td>0</td>\n",
       "      <td>0</td>\n",
       "      <td>0</td>\n",
       "      <td>0</td>\n",
       "      <td>0</td>\n",
       "      <td>0</td>\n",
       "      <td>0</td>\n",
       "      <td>0</td>\n",
       "      <td>0</td>\n",
       "      <td>0</td>\n",
       "      <td>0</td>\n",
       "      <td>0</td>\n",
       "      <td>0</td>\n",
       "      <td>0</td>\n",
       "      <td>0</td>\n",
       "      <td>0</td>\n",
       "      <td>0</td>\n",
       "      <td>0</td>\n",
       "      <td>0</td>\n",
       "      <td>0</td>\n",
       "      <td>0</td>\n",
       "      <td>0</td>\n",
       "      <td>0</td>\n",
       "      <td>0</td>\n",
       "      <td>0</td>\n",
       "      <td>0</td>\n",
       "      <td>0</td>\n",
       "      <td>0</td>\n",
       "      <td>0</td>\n",
       "      <td>0</td>\n",
       "      <td>0</td>\n",
       "      <td>0</td>\n",
       "      <td>0</td>\n",
       "      <td>0</td>\n",
       "      <td>0</td>\n",
       "    </tr>\n",
       "    <tr>\n",
       "      <th>2078194</th>\n",
       "      <td>46.10669</td>\n",
       "      <td>-123.20672</td>\n",
       "      <td>0.0</td>\n",
       "      <td>68.0</td>\n",
       "      <td>50.0</td>\n",
       "      <td>29.99</td>\n",
       "      <td>10.0</td>\n",
       "      <td>7.0</td>\n",
       "      <td>0.0</td>\n",
       "      <td>0</td>\n",
       "      <td>0</td>\n",
       "      <td>0</td>\n",
       "      <td>0</td>\n",
       "      <td>0</td>\n",
       "      <td>0</td>\n",
       "      <td>0</td>\n",
       "      <td>0</td>\n",
       "      <td>0</td>\n",
       "      <td>0</td>\n",
       "      <td>0</td>\n",
       "      <td>0</td>\n",
       "      <td>0</td>\n",
       "      <td>0</td>\n",
       "      <td>0</td>\n",
       "      <td>0</td>\n",
       "      <td>0</td>\n",
       "      <td>0</td>\n",
       "      <td>0</td>\n",
       "      <td>0</td>\n",
       "      <td>1</td>\n",
       "      <td>0</td>\n",
       "      <td>0</td>\n",
       "      <td>0</td>\n",
       "      <td>0</td>\n",
       "      <td>0</td>\n",
       "      <td>0</td>\n",
       "      <td>0</td>\n",
       "      <td>0</td>\n",
       "      <td>0</td>\n",
       "      <td>0</td>\n",
       "      <td>0</td>\n",
       "      <td>0</td>\n",
       "      <td>0</td>\n",
       "      <td>0</td>\n",
       "      <td>0</td>\n",
       "      <td>0</td>\n",
       "      <td>0</td>\n",
       "      <td>0</td>\n",
       "      <td>0</td>\n",
       "      <td>0</td>\n",
       "      <td>0</td>\n",
       "      <td>0</td>\n",
       "      <td>1</td>\n",
       "      <td>0</td>\n",
       "      <td>0</td>\n",
       "      <td>0</td>\n",
       "      <td>0</td>\n",
       "      <td>0</td>\n",
       "      <td>0</td>\n",
       "      <td>0</td>\n",
       "      <td>0</td>\n",
       "      <td>0</td>\n",
       "      <td>0</td>\n",
       "      <td>0</td>\n",
       "      <td>0</td>\n",
       "      <td>0</td>\n",
       "      <td>0</td>\n",
       "      <td>0</td>\n",
       "      <td>0</td>\n",
       "      <td>0</td>\n",
       "      <td>0</td>\n",
       "      <td>0</td>\n",
       "      <td>0</td>\n",
       "      <td>0</td>\n",
       "      <td>0</td>\n",
       "      <td>0</td>\n",
       "      <td>0</td>\n",
       "      <td>0</td>\n",
       "      <td>0</td>\n",
       "      <td>0</td>\n",
       "      <td>0</td>\n",
       "      <td>0</td>\n",
       "      <td>0</td>\n",
       "      <td>0</td>\n",
       "      <td>0</td>\n",
       "      <td>0</td>\n",
       "      <td>0</td>\n",
       "      <td>0</td>\n",
       "      <td>0</td>\n",
       "      <td>0</td>\n",
       "      <td>0</td>\n",
       "      <td>0</td>\n",
       "      <td>0</td>\n",
       "      <td>0</td>\n",
       "      <td>0</td>\n",
       "      <td>0</td>\n",
       "      <td>0</td>\n",
       "      <td>0</td>\n",
       "      <td>0</td>\n",
       "      <td>0</td>\n",
       "      <td>0</td>\n",
       "      <td>0</td>\n",
       "      <td>0</td>\n",
       "      <td>0</td>\n",
       "      <td>0</td>\n",
       "      <td>0</td>\n",
       "      <td>0</td>\n",
       "      <td>0</td>\n",
       "      <td>0</td>\n",
       "      <td>0</td>\n",
       "      <td>0</td>\n",
       "      <td>0</td>\n",
       "      <td>0</td>\n",
       "      <td>0</td>\n",
       "      <td>0</td>\n",
       "      <td>0</td>\n",
       "      <td>0</td>\n",
       "      <td>0</td>\n",
       "      <td>0</td>\n",
       "      <td>0</td>\n",
       "      <td>0</td>\n",
       "      <td>0</td>\n",
       "      <td>0</td>\n",
       "    </tr>\n",
       "    <tr>\n",
       "      <th>2126642</th>\n",
       "      <td>36.15231</td>\n",
       "      <td>-86.76898</td>\n",
       "      <td>0.0</td>\n",
       "      <td>69.0</td>\n",
       "      <td>54.0</td>\n",
       "      <td>29.17</td>\n",
       "      <td>10.0</td>\n",
       "      <td>3.0</td>\n",
       "      <td>0.0</td>\n",
       "      <td>0</td>\n",
       "      <td>0</td>\n",
       "      <td>1</td>\n",
       "      <td>0</td>\n",
       "      <td>0</td>\n",
       "      <td>0</td>\n",
       "      <td>0</td>\n",
       "      <td>0</td>\n",
       "      <td>0</td>\n",
       "      <td>0</td>\n",
       "      <td>0</td>\n",
       "      <td>0</td>\n",
       "      <td>1</td>\n",
       "      <td>0</td>\n",
       "      <td>0</td>\n",
       "      <td>0</td>\n",
       "      <td>0</td>\n",
       "      <td>0</td>\n",
       "      <td>0</td>\n",
       "      <td>0</td>\n",
       "      <td>0</td>\n",
       "      <td>0</td>\n",
       "      <td>0</td>\n",
       "      <td>0</td>\n",
       "      <td>0</td>\n",
       "      <td>0</td>\n",
       "      <td>0</td>\n",
       "      <td>0</td>\n",
       "      <td>0</td>\n",
       "      <td>0</td>\n",
       "      <td>0</td>\n",
       "      <td>1</td>\n",
       "      <td>0</td>\n",
       "      <td>0</td>\n",
       "      <td>0</td>\n",
       "      <td>0</td>\n",
       "      <td>0</td>\n",
       "      <td>0</td>\n",
       "      <td>0</td>\n",
       "      <td>0</td>\n",
       "      <td>0</td>\n",
       "      <td>0</td>\n",
       "      <td>0</td>\n",
       "      <td>0</td>\n",
       "      <td>0</td>\n",
       "      <td>0</td>\n",
       "      <td>0</td>\n",
       "      <td>0</td>\n",
       "      <td>0</td>\n",
       "      <td>0</td>\n",
       "      <td>0</td>\n",
       "      <td>0</td>\n",
       "      <td>0</td>\n",
       "      <td>0</td>\n",
       "      <td>0</td>\n",
       "      <td>0</td>\n",
       "      <td>0</td>\n",
       "      <td>0</td>\n",
       "      <td>0</td>\n",
       "      <td>0</td>\n",
       "      <td>0</td>\n",
       "      <td>0</td>\n",
       "      <td>0</td>\n",
       "      <td>0</td>\n",
       "      <td>0</td>\n",
       "      <td>0</td>\n",
       "      <td>0</td>\n",
       "      <td>0</td>\n",
       "      <td>0</td>\n",
       "      <td>0</td>\n",
       "      <td>0</td>\n",
       "      <td>0</td>\n",
       "      <td>0</td>\n",
       "      <td>0</td>\n",
       "      <td>0</td>\n",
       "      <td>0</td>\n",
       "      <td>0</td>\n",
       "      <td>0</td>\n",
       "      <td>0</td>\n",
       "      <td>0</td>\n",
       "      <td>1</td>\n",
       "      <td>0</td>\n",
       "      <td>0</td>\n",
       "      <td>0</td>\n",
       "      <td>0</td>\n",
       "      <td>0</td>\n",
       "      <td>0</td>\n",
       "      <td>0</td>\n",
       "      <td>0</td>\n",
       "      <td>0</td>\n",
       "      <td>0</td>\n",
       "      <td>0</td>\n",
       "      <td>0</td>\n",
       "      <td>0</td>\n",
       "      <td>0</td>\n",
       "      <td>0</td>\n",
       "      <td>0</td>\n",
       "      <td>0</td>\n",
       "      <td>0</td>\n",
       "      <td>0</td>\n",
       "      <td>0</td>\n",
       "      <td>0</td>\n",
       "      <td>0</td>\n",
       "      <td>0</td>\n",
       "      <td>0</td>\n",
       "      <td>0</td>\n",
       "      <td>0</td>\n",
       "      <td>0</td>\n",
       "      <td>0</td>\n",
       "      <td>0</td>\n",
       "      <td>0</td>\n",
       "      <td>0</td>\n",
       "      <td>0</td>\n",
       "      <td>0</td>\n",
       "    </tr>\n",
       "    <tr>\n",
       "      <th>2236747</th>\n",
       "      <td>35.61200</td>\n",
       "      <td>-83.01157</td>\n",
       "      <td>0.0</td>\n",
       "      <td>56.0</td>\n",
       "      <td>55.0</td>\n",
       "      <td>27.75</td>\n",
       "      <td>10.0</td>\n",
       "      <td>0.0</td>\n",
       "      <td>0.0</td>\n",
       "      <td>0</td>\n",
       "      <td>0</td>\n",
       "      <td>0</td>\n",
       "      <td>0</td>\n",
       "      <td>0</td>\n",
       "      <td>0</td>\n",
       "      <td>0</td>\n",
       "      <td>0</td>\n",
       "      <td>0</td>\n",
       "      <td>0</td>\n",
       "      <td>0</td>\n",
       "      <td>0</td>\n",
       "      <td>1</td>\n",
       "      <td>0</td>\n",
       "      <td>0</td>\n",
       "      <td>0</td>\n",
       "      <td>0</td>\n",
       "      <td>0</td>\n",
       "      <td>0</td>\n",
       "      <td>0</td>\n",
       "      <td>0</td>\n",
       "      <td>0</td>\n",
       "      <td>0</td>\n",
       "      <td>0</td>\n",
       "      <td>0</td>\n",
       "      <td>0</td>\n",
       "      <td>0</td>\n",
       "      <td>0</td>\n",
       "      <td>0</td>\n",
       "      <td>0</td>\n",
       "      <td>0</td>\n",
       "      <td>0</td>\n",
       "      <td>0</td>\n",
       "      <td>0</td>\n",
       "      <td>0</td>\n",
       "      <td>0</td>\n",
       "      <td>0</td>\n",
       "      <td>0</td>\n",
       "      <td>0</td>\n",
       "      <td>0</td>\n",
       "      <td>0</td>\n",
       "      <td>0</td>\n",
       "      <td>0</td>\n",
       "      <td>1</td>\n",
       "      <td>0</td>\n",
       "      <td>0</td>\n",
       "      <td>0</td>\n",
       "      <td>0</td>\n",
       "      <td>0</td>\n",
       "      <td>0</td>\n",
       "      <td>0</td>\n",
       "      <td>0</td>\n",
       "      <td>0</td>\n",
       "      <td>0</td>\n",
       "      <td>0</td>\n",
       "      <td>0</td>\n",
       "      <td>0</td>\n",
       "      <td>0</td>\n",
       "      <td>0</td>\n",
       "      <td>0</td>\n",
       "      <td>0</td>\n",
       "      <td>0</td>\n",
       "      <td>0</td>\n",
       "      <td>0</td>\n",
       "      <td>0</td>\n",
       "      <td>0</td>\n",
       "      <td>0</td>\n",
       "      <td>0</td>\n",
       "      <td>0</td>\n",
       "      <td>0</td>\n",
       "      <td>0</td>\n",
       "      <td>0</td>\n",
       "      <td>0</td>\n",
       "      <td>0</td>\n",
       "      <td>0</td>\n",
       "      <td>0</td>\n",
       "      <td>0</td>\n",
       "      <td>0</td>\n",
       "      <td>0</td>\n",
       "      <td>0</td>\n",
       "      <td>0</td>\n",
       "      <td>0</td>\n",
       "      <td>0</td>\n",
       "      <td>0</td>\n",
       "      <td>0</td>\n",
       "      <td>0</td>\n",
       "      <td>0</td>\n",
       "      <td>0</td>\n",
       "      <td>0</td>\n",
       "      <td>0</td>\n",
       "      <td>0</td>\n",
       "      <td>0</td>\n",
       "      <td>0</td>\n",
       "      <td>0</td>\n",
       "      <td>0</td>\n",
       "      <td>0</td>\n",
       "      <td>0</td>\n",
       "      <td>0</td>\n",
       "      <td>0</td>\n",
       "      <td>0</td>\n",
       "      <td>0</td>\n",
       "      <td>0</td>\n",
       "      <td>0</td>\n",
       "      <td>0</td>\n",
       "      <td>0</td>\n",
       "      <td>0</td>\n",
       "      <td>0</td>\n",
       "      <td>0</td>\n",
       "      <td>0</td>\n",
       "      <td>0</td>\n",
       "      <td>0</td>\n",
       "      <td>0</td>\n",
       "      <td>0</td>\n",
       "      <td>1</td>\n",
       "    </tr>\n",
       "  </tbody>\n",
       "</table>\n",
       "</div>"
      ],
      "text/plain": [
       "         Start_Lat  Start_Lng  Distance(mi)  Temperature(F)  Humidity(%)  \\\n",
       "2111274   40.86161 -111.92986           0.0            79.0         18.0   \n",
       "2104185   32.28663 -110.96110           0.0            93.0          8.0   \n",
       "2078194   46.10669 -123.20672           0.0            68.0         50.0   \n",
       "2126642   36.15231  -86.76898           0.0            69.0         54.0   \n",
       "2236747   35.61200  -83.01157           0.0            56.0         55.0   \n",
       "\n",
       "         Pressure(in)  Visibility(mi)  Wind_Speed(mph)  Precipitation(in)  \\\n",
       "2111274         25.41             8.0             21.0                0.0   \n",
       "2104185         27.14            10.0              7.0                0.0   \n",
       "2078194         29.99            10.0              7.0                0.0   \n",
       "2126642         29.17            10.0              3.0                0.0   \n",
       "2236747         27.75            10.0              0.0                0.0   \n",
       "\n",
       "         Amenity  Bump  Crossing  Give_Way  Junction  No_Exit  Railway  \\\n",
       "2111274        0     0         0         0         0        0        0   \n",
       "2104185        0     0         0         0         0        0        0   \n",
       "2078194        0     0         0         0         0        0        0   \n",
       "2126642        0     0         1         0         0        0        0   \n",
       "2236747        0     0         0         0         0        0        0   \n",
       "\n",
       "         Roundabout  Station  Stop  Traffic_Calming  Traffic_Signal  Side_R  \\\n",
       "2111274           0        0     0                0               1       1   \n",
       "2104185           0        0     0                0               1       1   \n",
       "2078194           0        0     0                0               0       0   \n",
       "2126642           0        0     0                0               0       1   \n",
       "2236747           0        0     0                0               0       1   \n",
       "\n",
       "         Wind_Direction_E  Wind_Direction_ENE  Wind_Direction_ESE  \\\n",
       "2111274                 0                   0                   0   \n",
       "2104185                 0                   0                   0   \n",
       "2078194                 0                   0                   0   \n",
       "2126642                 0                   0                   0   \n",
       "2236747                 0                   0                   0   \n",
       "\n",
       "         Wind_Direction_East  Wind_Direction_N  Wind_Direction_NE  \\\n",
       "2111274                    0                 0                  0   \n",
       "2104185                    0                 0                  0   \n",
       "2078194                    0                 0                  0   \n",
       "2126642                    0                 0                  0   \n",
       "2236747                    0                 0                  0   \n",
       "\n",
       "         Wind_Direction_NNE  Wind_Direction_NNW  Wind_Direction_NW  \\\n",
       "2111274                   0                   0                  1   \n",
       "2104185                   0                   0                  1   \n",
       "2078194                   0                   1                  0   \n",
       "2126642                   0                   0                  0   \n",
       "2236747                   0                   0                  0   \n",
       "\n",
       "         Wind_Direction_North  Wind_Direction_S  Wind_Direction_SE  \\\n",
       "2111274                     0                 0                  0   \n",
       "2104185                     0                 0                  0   \n",
       "2078194                     0                 0                  0   \n",
       "2126642                     0                 0                  0   \n",
       "2236747                     0                 0                  0   \n",
       "\n",
       "         Wind_Direction_SSE  Wind_Direction_SSW  Wind_Direction_SW  \\\n",
       "2111274                   0                   0                  0   \n",
       "2104185                   0                   0                  0   \n",
       "2078194                   0                   0                  0   \n",
       "2126642                   0                   0                  0   \n",
       "2236747                   0                   0                  0   \n",
       "\n",
       "         Wind_Direction_South  Wind_Direction_VAR  Wind_Direction_Variable  \\\n",
       "2111274                     0                   0                        0   \n",
       "2104185                     0                   0                        0   \n",
       "2078194                     0                   0                        0   \n",
       "2126642                     0                   0                        0   \n",
       "2236747                     0                   0                        0   \n",
       "\n",
       "         Wind_Direction_W  Wind_Direction_WNW  Wind_Direction_WSW  \\\n",
       "2111274                 0                   0                   0   \n",
       "2104185                 0                   0                   0   \n",
       "2078194                 0                   0                   0   \n",
       "2126642                 1                   0                   0   \n",
       "2236747                 0                   0                   0   \n",
       "\n",
       "         Wind_Direction_West  Weather_Condition_Blowing Dust / Windy  \\\n",
       "2111274                    0                                       0   \n",
       "2104185                    0                                       0   \n",
       "2078194                    0                                       0   \n",
       "2126642                    0                                       0   \n",
       "2236747                    0                                       0   \n",
       "\n",
       "         Weather_Condition_Blowing Snow  Weather_Condition_Clear  \\\n",
       "2111274                               0                        0   \n",
       "2104185                               0                        0   \n",
       "2078194                               0                        0   \n",
       "2126642                               0                        0   \n",
       "2236747                               0                        0   \n",
       "\n",
       "         Weather_Condition_Cloudy  Weather_Condition_Cloudy / Windy  \\\n",
       "2111274                         0                                 0   \n",
       "2104185                         0                                 0   \n",
       "2078194                         0                                 0   \n",
       "2126642                         0                                 0   \n",
       "2236747                         0                                 0   \n",
       "\n",
       "         Weather_Condition_Drizzle  Weather_Condition_Drizzle / Windy  \\\n",
       "2111274                          0                                  0   \n",
       "2104185                          0                                  0   \n",
       "2078194                          0                                  0   \n",
       "2126642                          0                                  0   \n",
       "2236747                          0                                  0   \n",
       "\n",
       "         Weather_Condition_Drizzle and Fog  Weather_Condition_Fair  \\\n",
       "2111274                                  0                       0   \n",
       "2104185                                  0                       1   \n",
       "2078194                                  0                       1   \n",
       "2126642                                  0                       0   \n",
       "2236747                                  0                       1   \n",
       "\n",
       "         Weather_Condition_Fair / Windy  Weather_Condition_Fog  \\\n",
       "2111274                               0                      0   \n",
       "2104185                               0                      0   \n",
       "2078194                               0                      0   \n",
       "2126642                               0                      0   \n",
       "2236747                               0                      0   \n",
       "\n",
       "         Weather_Condition_Fog / Windy  Weather_Condition_Freezing Rain  \\\n",
       "2111274                              0                                0   \n",
       "2104185                              0                                0   \n",
       "2078194                              0                                0   \n",
       "2126642                              0                                0   \n",
       "2236747                              0                                0   \n",
       "\n",
       "         Weather_Condition_Haze  Weather_Condition_Haze / Windy  \\\n",
       "2111274                       0                               0   \n",
       "2104185                       0                               0   \n",
       "2078194                       0                               0   \n",
       "2126642                       0                               0   \n",
       "2236747                       0                               0   \n",
       "\n",
       "         Weather_Condition_Heavy Drizzle  Weather_Condition_Heavy Rain  \\\n",
       "2111274                                0                             0   \n",
       "2104185                                0                             0   \n",
       "2078194                                0                             0   \n",
       "2126642                                0                             0   \n",
       "2236747                                0                             0   \n",
       "\n",
       "         Weather_Condition_Heavy Rain / Windy  \\\n",
       "2111274                                     0   \n",
       "2104185                                     0   \n",
       "2078194                                     0   \n",
       "2126642                                     0   \n",
       "2236747                                     0   \n",
       "\n",
       "         Weather_Condition_Heavy Rain Shower  Weather_Condition_Heavy Snow  \\\n",
       "2111274                                    0                             0   \n",
       "2104185                                    0                             0   \n",
       "2078194                                    0                             0   \n",
       "2126642                                    0                             0   \n",
       "2236747                                    0                             0   \n",
       "\n",
       "         Weather_Condition_Heavy Snow / Windy  \\\n",
       "2111274                                     0   \n",
       "2104185                                     0   \n",
       "2078194                                     0   \n",
       "2126642                                     0   \n",
       "2236747                                     0   \n",
       "\n",
       "         Weather_Condition_Heavy T-Storm  \\\n",
       "2111274                                0   \n",
       "2104185                                0   \n",
       "2078194                                0   \n",
       "2126642                                0   \n",
       "2236747                                0   \n",
       "\n",
       "         Weather_Condition_Heavy T-Storm / Windy  \\\n",
       "2111274                                        0   \n",
       "2104185                                        0   \n",
       "2078194                                        0   \n",
       "2126642                                        0   \n",
       "2236747                                        0   \n",
       "\n",
       "         Weather_Condition_Heavy Thunderstorms and Rain  \\\n",
       "2111274                                               0   \n",
       "2104185                                               0   \n",
       "2078194                                               0   \n",
       "2126642                                               0   \n",
       "2236747                                               0   \n",
       "\n",
       "         Weather_Condition_Ice Pellets  Weather_Condition_Light Blowing Snow  \\\n",
       "2111274                              0                                     0   \n",
       "2104185                              0                                     0   \n",
       "2078194                              0                                     0   \n",
       "2126642                              0                                     0   \n",
       "2236747                              0                                     0   \n",
       "\n",
       "         Weather_Condition_Light Drizzle  \\\n",
       "2111274                                0   \n",
       "2104185                                0   \n",
       "2078194                                0   \n",
       "2126642                                0   \n",
       "2236747                                0   \n",
       "\n",
       "         Weather_Condition_Light Drizzle / Windy  \\\n",
       "2111274                                        0   \n",
       "2104185                                        0   \n",
       "2078194                                        0   \n",
       "2126642                                        0   \n",
       "2236747                                        0   \n",
       "\n",
       "         Weather_Condition_Light Freezing Drizzle  \\\n",
       "2111274                                         0   \n",
       "2104185                                         0   \n",
       "2078194                                         0   \n",
       "2126642                                         0   \n",
       "2236747                                         0   \n",
       "\n",
       "         Weather_Condition_Light Freezing Fog  \\\n",
       "2111274                                     0   \n",
       "2104185                                     0   \n",
       "2078194                                     0   \n",
       "2126642                                     0   \n",
       "2236747                                     0   \n",
       "\n",
       "         Weather_Condition_Light Freezing Rain  \\\n",
       "2111274                                      0   \n",
       "2104185                                      0   \n",
       "2078194                                      0   \n",
       "2126642                                      0   \n",
       "2236747                                      0   \n",
       "\n",
       "         Weather_Condition_Light Freezing Rain / Windy  \\\n",
       "2111274                                              0   \n",
       "2104185                                              0   \n",
       "2078194                                              0   \n",
       "2126642                                              0   \n",
       "2236747                                              0   \n",
       "\n",
       "         Weather_Condition_Light Ice Pellets  Weather_Condition_Light Rain  \\\n",
       "2111274                                    0                             0   \n",
       "2104185                                    0                             0   \n",
       "2078194                                    0                             0   \n",
       "2126642                                    0                             0   \n",
       "2236747                                    0                             0   \n",
       "\n",
       "         Weather_Condition_Light Rain / Windy  \\\n",
       "2111274                                     0   \n",
       "2104185                                     0   \n",
       "2078194                                     0   \n",
       "2126642                                     0   \n",
       "2236747                                     0   \n",
       "\n",
       "         Weather_Condition_Light Rain Shower  \\\n",
       "2111274                                    0   \n",
       "2104185                                    0   \n",
       "2078194                                    0   \n",
       "2126642                                    0   \n",
       "2236747                                    0   \n",
       "\n",
       "         Weather_Condition_Light Rain with Thunder  \\\n",
       "2111274                                          0   \n",
       "2104185                                          0   \n",
       "2078194                                          0   \n",
       "2126642                                          0   \n",
       "2236747                                          0   \n",
       "\n",
       "         Weather_Condition_Light Sleet  Weather_Condition_Light Snow  \\\n",
       "2111274                              0                             0   \n",
       "2104185                              0                             0   \n",
       "2078194                              0                             0   \n",
       "2126642                              0                             0   \n",
       "2236747                              0                             0   \n",
       "\n",
       "         Weather_Condition_Light Snow / Windy  \\\n",
       "2111274                                     0   \n",
       "2104185                                     0   \n",
       "2078194                                     0   \n",
       "2126642                                     0   \n",
       "2236747                                     0   \n",
       "\n",
       "         Weather_Condition_Light Snow and Sleet / Windy  \\\n",
       "2111274                                               0   \n",
       "2104185                                               0   \n",
       "2078194                                               0   \n",
       "2126642                                               0   \n",
       "2236747                                               0   \n",
       "\n",
       "         Weather_Condition_Light Snow with Thunder  \\\n",
       "2111274                                          0   \n",
       "2104185                                          0   \n",
       "2078194                                          0   \n",
       "2126642                                          0   \n",
       "2236747                                          0   \n",
       "\n",
       "         Weather_Condition_Light Thunderstorms and Rain  \\\n",
       "2111274                                               0   \n",
       "2104185                                               0   \n",
       "2078194                                               0   \n",
       "2126642                                               0   \n",
       "2236747                                               0   \n",
       "\n",
       "         Weather_Condition_Light Thunderstorms and Snow  \\\n",
       "2111274                                               0   \n",
       "2104185                                               0   \n",
       "2078194                                               0   \n",
       "2126642                                               0   \n",
       "2236747                                               0   \n",
       "\n",
       "         Weather_Condition_Mist  Weather_Condition_Mostly Cloudy  \\\n",
       "2111274                       0                                0   \n",
       "2104185                       0                                0   \n",
       "2078194                       0                                0   \n",
       "2126642                       0                                1   \n",
       "2236747                       0                                0   \n",
       "\n",
       "         Weather_Condition_Mostly Cloudy / Windy  \\\n",
       "2111274                                        1   \n",
       "2104185                                        0   \n",
       "2078194                                        0   \n",
       "2126642                                        0   \n",
       "2236747                                        0   \n",
       "\n",
       "         Weather_Condition_N/A Precipitation  Weather_Condition_Overcast  \\\n",
       "2111274                                    0                           0   \n",
       "2104185                                    0                           0   \n",
       "2078194                                    0                           0   \n",
       "2126642                                    0                           0   \n",
       "2236747                                    0                           0   \n",
       "\n",
       "         Weather_Condition_Partly Cloudy  \\\n",
       "2111274                                0   \n",
       "2104185                                0   \n",
       "2078194                                0   \n",
       "2126642                                0   \n",
       "2236747                                0   \n",
       "\n",
       "         Weather_Condition_Partly Cloudy / Windy  \\\n",
       "2111274                                        0   \n",
       "2104185                                        0   \n",
       "2078194                                        0   \n",
       "2126642                                        0   \n",
       "2236747                                        0   \n",
       "\n",
       "         Weather_Condition_Patches of Fog  \\\n",
       "2111274                                 0   \n",
       "2104185                                 0   \n",
       "2078194                                 0   \n",
       "2126642                                 0   \n",
       "2236747                                 0   \n",
       "\n",
       "         Weather_Condition_Patches of Fog / Windy  Weather_Condition_Rain  \\\n",
       "2111274                                         0                       0   \n",
       "2104185                                         0                       0   \n",
       "2078194                                         0                       0   \n",
       "2126642                                         0                       0   \n",
       "2236747                                         0                       0   \n",
       "\n",
       "         Weather_Condition_Rain / Windy  \\\n",
       "2111274                               0   \n",
       "2104185                               0   \n",
       "2078194                               0   \n",
       "2126642                               0   \n",
       "2236747                               0   \n",
       "\n",
       "         Weather_Condition_Sand / Dust Whirlwinds  \\\n",
       "2111274                                         0   \n",
       "2104185                                         0   \n",
       "2078194                                         0   \n",
       "2126642                                         0   \n",
       "2236747                                         0   \n",
       "\n",
       "         Weather_Condition_Scattered Clouds  Weather_Condition_Shallow Fog  \\\n",
       "2111274                                   0                              0   \n",
       "2104185                                   0                              0   \n",
       "2078194                                   0                              0   \n",
       "2126642                                   0                              0   \n",
       "2236747                                   0                              0   \n",
       "\n",
       "         Weather_Condition_Showers in the Vicinity  Weather_Condition_Sleet  \\\n",
       "2111274                                          0                        0   \n",
       "2104185                                          0                        0   \n",
       "2078194                                          0                        0   \n",
       "2126642                                          0                        0   \n",
       "2236747                                          0                        0   \n",
       "\n",
       "         Weather_Condition_Small Hail  Weather_Condition_Smoke  \\\n",
       "2111274                             0                        0   \n",
       "2104185                             0                        0   \n",
       "2078194                             0                        0   \n",
       "2126642                             0                        0   \n",
       "2236747                             0                        0   \n",
       "\n",
       "         Weather_Condition_Smoke / Windy  Weather_Condition_Snow  \\\n",
       "2111274                                0                       0   \n",
       "2104185                                0                       0   \n",
       "2078194                                0                       0   \n",
       "2126642                                0                       0   \n",
       "2236747                                0                       0   \n",
       "\n",
       "         Weather_Condition_Snow / Windy  Weather_Condition_Snow and Sleet  \\\n",
       "2111274                               0                                 0   \n",
       "2104185                               0                                 0   \n",
       "2078194                               0                                 0   \n",
       "2126642                               0                                 0   \n",
       "2236747                               0                                 0   \n",
       "\n",
       "         Weather_Condition_Squalls / Windy  Weather_Condition_T-Storm  \\\n",
       "2111274                                  0                          0   \n",
       "2104185                                  0                          0   \n",
       "2078194                                  0                          0   \n",
       "2126642                                  0                          0   \n",
       "2236747                                  0                          0   \n",
       "\n",
       "         Weather_Condition_T-Storm / Windy  Weather_Condition_Thunder  \\\n",
       "2111274                                  0                          0   \n",
       "2104185                                  0                          0   \n",
       "2078194                                  0                          0   \n",
       "2126642                                  0                          0   \n",
       "2236747                                  0                          0   \n",
       "\n",
       "         Weather_Condition_Thunder / Windy  \\\n",
       "2111274                                  0   \n",
       "2104185                                  0   \n",
       "2078194                                  0   \n",
       "2126642                                  0   \n",
       "2236747                                  0   \n",
       "\n",
       "         Weather_Condition_Thunder and Hail  \\\n",
       "2111274                                   0   \n",
       "2104185                                   0   \n",
       "2078194                                   0   \n",
       "2126642                                   0   \n",
       "2236747                                   0   \n",
       "\n",
       "         Weather_Condition_Thunder and Hail / Windy  \\\n",
       "2111274                                           0   \n",
       "2104185                                           0   \n",
       "2078194                                           0   \n",
       "2126642                                           0   \n",
       "2236747                                           0   \n",
       "\n",
       "         Weather_Condition_Thunder in the Vicinity  \\\n",
       "2111274                                          0   \n",
       "2104185                                          0   \n",
       "2078194                                          0   \n",
       "2126642                                          0   \n",
       "2236747                                          0   \n",
       "\n",
       "         Weather_Condition_Thunderstorms and Rain  \\\n",
       "2111274                                         0   \n",
       "2104185                                         0   \n",
       "2078194                                         0   \n",
       "2126642                                         0   \n",
       "2236747                                         0   \n",
       "\n",
       "         Weather_Condition_Widespread Dust  Weather_Condition_Wintry Mix  \\\n",
       "2111274                                  0                             0   \n",
       "2104185                                  0                             0   \n",
       "2078194                                  0                             0   \n",
       "2126642                                  0                             0   \n",
       "2236747                                  0                             0   \n",
       "\n",
       "         Weather_Condition_Wintry Mix / Windy  Civil_Twilight_Night  \n",
       "2111274                                     0                     0  \n",
       "2104185                                     0                     0  \n",
       "2078194                                     0                     0  \n",
       "2126642                                     0                     0  \n",
       "2236747                                     0                     1  "
      ]
     },
     "execution_count": 33,
     "metadata": {},
     "output_type": "execute_result"
    }
   ],
   "source": [
    "# One hot encoding categorical columns\n",
    "onehot_cols = [\"Side\", \"Wind_Direction\", \"Weather_Condition\", \"Civil_Twilight\"]\n",
    "x = pd.get_dummies(x, columns=onehot_cols, drop_first=True)\n",
    "\n",
    "# Removing City and State\n",
    "x = x.drop(columns=[\"City\", \"State\"])\n",
    "x.head()"
   ]
  },
  {
   "cell_type": "markdown",
   "id": "8bcea0c8",
   "metadata": {},
   "source": [
    "# Data Splitting"
   ]
  },
  {
   "cell_type": "code",
   "execution_count": 34,
   "id": "f97de809",
   "metadata": {},
   "outputs": [],
   "source": [
    "# train-test split\n",
    "from sklearn.model_selection import train_test_split\n",
    "\n",
    "x_train, x_test, y_train, y_test = train_test_split(x, y, test_size=.4, random_state= 28, stratify=y)"
   ]
  },
  {
   "cell_type": "code",
   "execution_count": 35,
   "id": "e203dd4e",
   "metadata": {},
   "outputs": [
    {
     "data": {
      "text/plain": [
       "((56534, 123), (37690, 123), (56534,), (37690,))"
      ]
     },
     "execution_count": 35,
     "metadata": {},
     "output_type": "execute_result"
    }
   ],
   "source": [
    "x_train.shape, x_test.shape, y_train.shape, y_test.shape"
   ]
  },
  {
   "cell_type": "markdown",
   "id": "4c163005",
   "metadata": {},
   "source": [
    "# Scaling"
   ]
  },
  {
   "cell_type": "code",
   "execution_count": 36,
   "id": "de68d7eb",
   "metadata": {},
   "outputs": [],
   "source": [
    "from sklearn.preprocessing import MinMaxScaler\n",
    "minmax = MinMaxScaler(feature_range=(0,1))\n",
    "\n",
    "# Train our scaler\n",
    "minmax.fit(x_train)\n",
    "\n",
    "# Get scaled variables\n",
    "x_train_scaled = minmax.transform(x_train)\n",
    "x_test_scaled = minmax.transform(x_test)\n",
    "# x_train_scaled"
   ]
  },
  {
   "cell_type": "markdown",
   "id": "d3c51d89",
   "metadata": {},
   "source": [
    "# Modeling"
   ]
  },
  {
   "cell_type": "markdown",
   "id": "bd7ab5e8",
   "metadata": {},
   "source": [
    "### Logistic Regression"
   ]
  },
  {
   "cell_type": "code",
   "execution_count": 37,
   "id": "4ad6436a",
   "metadata": {},
   "outputs": [
    {
     "data": {
      "text/html": [
       "<style>#sk-container-id-1 {color: black;background-color: white;}#sk-container-id-1 pre{padding: 0;}#sk-container-id-1 div.sk-toggleable {background-color: white;}#sk-container-id-1 label.sk-toggleable__label {cursor: pointer;display: block;width: 100%;margin-bottom: 0;padding: 0.3em;box-sizing: border-box;text-align: center;}#sk-container-id-1 label.sk-toggleable__label-arrow:before {content: \"▸\";float: left;margin-right: 0.25em;color: #696969;}#sk-container-id-1 label.sk-toggleable__label-arrow:hover:before {color: black;}#sk-container-id-1 div.sk-estimator:hover label.sk-toggleable__label-arrow:before {color: black;}#sk-container-id-1 div.sk-toggleable__content {max-height: 0;max-width: 0;overflow: hidden;text-align: left;background-color: #f0f8ff;}#sk-container-id-1 div.sk-toggleable__content pre {margin: 0.2em;color: black;border-radius: 0.25em;background-color: #f0f8ff;}#sk-container-id-1 input.sk-toggleable__control:checked~div.sk-toggleable__content {max-height: 200px;max-width: 100%;overflow: auto;}#sk-container-id-1 input.sk-toggleable__control:checked~label.sk-toggleable__label-arrow:before {content: \"▾\";}#sk-container-id-1 div.sk-estimator input.sk-toggleable__control:checked~label.sk-toggleable__label {background-color: #d4ebff;}#sk-container-id-1 div.sk-label input.sk-toggleable__control:checked~label.sk-toggleable__label {background-color: #d4ebff;}#sk-container-id-1 input.sk-hidden--visually {border: 0;clip: rect(1px 1px 1px 1px);clip: rect(1px, 1px, 1px, 1px);height: 1px;margin: -1px;overflow: hidden;padding: 0;position: absolute;width: 1px;}#sk-container-id-1 div.sk-estimator {font-family: monospace;background-color: #f0f8ff;border: 1px dotted black;border-radius: 0.25em;box-sizing: border-box;margin-bottom: 0.5em;}#sk-container-id-1 div.sk-estimator:hover {background-color: #d4ebff;}#sk-container-id-1 div.sk-parallel-item::after {content: \"\";width: 100%;border-bottom: 1px solid gray;flex-grow: 1;}#sk-container-id-1 div.sk-label:hover label.sk-toggleable__label {background-color: #d4ebff;}#sk-container-id-1 div.sk-serial::before {content: \"\";position: absolute;border-left: 1px solid gray;box-sizing: border-box;top: 0;bottom: 0;left: 50%;z-index: 0;}#sk-container-id-1 div.sk-serial {display: flex;flex-direction: column;align-items: center;background-color: white;padding-right: 0.2em;padding-left: 0.2em;position: relative;}#sk-container-id-1 div.sk-item {position: relative;z-index: 1;}#sk-container-id-1 div.sk-parallel {display: flex;align-items: stretch;justify-content: center;background-color: white;position: relative;}#sk-container-id-1 div.sk-item::before, #sk-container-id-1 div.sk-parallel-item::before {content: \"\";position: absolute;border-left: 1px solid gray;box-sizing: border-box;top: 0;bottom: 0;left: 50%;z-index: -1;}#sk-container-id-1 div.sk-parallel-item {display: flex;flex-direction: column;z-index: 1;position: relative;background-color: white;}#sk-container-id-1 div.sk-parallel-item:first-child::after {align-self: flex-end;width: 50%;}#sk-container-id-1 div.sk-parallel-item:last-child::after {align-self: flex-start;width: 50%;}#sk-container-id-1 div.sk-parallel-item:only-child::after {width: 0;}#sk-container-id-1 div.sk-dashed-wrapped {border: 1px dashed gray;margin: 0 0.4em 0.5em 0.4em;box-sizing: border-box;padding-bottom: 0.4em;background-color: white;}#sk-container-id-1 div.sk-label label {font-family: monospace;font-weight: bold;display: inline-block;line-height: 1.2em;}#sk-container-id-1 div.sk-label-container {text-align: center;}#sk-container-id-1 div.sk-container {/* jupyter's `normalize.less` sets `[hidden] { display: none; }` but bootstrap.min.css set `[hidden] { display: none !important; }` so we also need the `!important` here to be able to override the default hidden behavior on the sphinx rendered scikit-learn.org. See: https://github.com/scikit-learn/scikit-learn/issues/21755 */display: inline-block !important;position: relative;}#sk-container-id-1 div.sk-text-repr-fallback {display: none;}</style><div id=\"sk-container-id-1\" class=\"sk-top-container\"><div class=\"sk-text-repr-fallback\"><pre>LogisticRegression(multi_class=&#x27;multinomial&#x27;)</pre><b>In a Jupyter environment, please rerun this cell to show the HTML representation or trust the notebook. <br />On GitHub, the HTML representation is unable to render, please try loading this page with nbviewer.org.</b></div><div class=\"sk-container\" hidden><div class=\"sk-item\"><div class=\"sk-estimator sk-toggleable\"><input class=\"sk-toggleable__control sk-hidden--visually\" id=\"sk-estimator-id-1\" type=\"checkbox\" checked><label for=\"sk-estimator-id-1\" class=\"sk-toggleable__label sk-toggleable__label-arrow\">LogisticRegression</label><div class=\"sk-toggleable__content\"><pre>LogisticRegression(multi_class=&#x27;multinomial&#x27;)</pre></div></div></div></div></div>"
      ],
      "text/plain": [
       "LogisticRegression(multi_class='multinomial')"
      ]
     },
     "execution_count": 37,
     "metadata": {},
     "output_type": "execute_result"
    }
   ],
   "source": [
    "from sklearn.linear_model import LogisticRegression\n",
    "from sklearn.metrics import classification_report, confusion_matrix, accuracy_score, mean_squared_error\n",
    "\n",
    "# Training the model\n",
    "log_reg = LogisticRegression(multi_class='multinomial', solver='lbfgs')\n",
    "log_reg.fit(x_train_scaled, y_train)"
   ]
  },
  {
   "cell_type": "code",
   "execution_count": 38,
   "id": "0d4f6d0b",
   "metadata": {},
   "outputs": [
    {
     "name": "stdout",
     "output_type": "stream",
     "text": [
      "Test set Accuracy is: 0.4699124436189971\n"
     ]
    }
   ],
   "source": [
    "# Accuracy for test set\n",
    "print(\"Test set Accuracy is:\", log_reg.score(x_test_scaled, y_test))"
   ]
  },
  {
   "cell_type": "code",
   "execution_count": 39,
   "id": "3fe1ce05",
   "metadata": {},
   "outputs": [],
   "source": [
    "y_pred1 = log_reg.predict(x_test_scaled)\n",
    "acc1 = accuracy_score(y_test, y_pred1)*100\n",
    "rmse1 = mean_squared_error(y_test, y_pred1)"
   ]
  },
  {
   "cell_type": "code",
   "execution_count": 44,
   "id": "3acd6386",
   "metadata": {},
   "outputs": [
    {
     "name": "stdout",
     "output_type": "stream",
     "text": [
      "              precision    recall  f1-score   support\n",
      "\n",
      "           1       0.57      0.53      0.55      9422\n",
      "           2       0.43      0.48      0.45      9423\n",
      "           3       0.43      0.42      0.43      9422\n",
      "           4       0.46      0.45      0.45      9423\n",
      "\n",
      "    accuracy                           0.47     37690\n",
      "   macro avg       0.47      0.47      0.47     37690\n",
      "weighted avg       0.47      0.47      0.47     37690\n",
      "\n"
     ]
    }
   ],
   "source": [
    "print(classification_report(y_test, y_pred1))"
   ]
  },
  {
   "cell_type": "markdown",
   "id": "1d5ec718",
   "metadata": {},
   "source": [
    "### kNN"
   ]
  },
  {
   "cell_type": "code",
   "execution_count": 45,
   "id": "294f2052",
   "metadata": {},
   "outputs": [
    {
     "data": {
      "text/html": [
       "<style>#sk-container-id-3 {color: black;background-color: white;}#sk-container-id-3 pre{padding: 0;}#sk-container-id-3 div.sk-toggleable {background-color: white;}#sk-container-id-3 label.sk-toggleable__label {cursor: pointer;display: block;width: 100%;margin-bottom: 0;padding: 0.3em;box-sizing: border-box;text-align: center;}#sk-container-id-3 label.sk-toggleable__label-arrow:before {content: \"▸\";float: left;margin-right: 0.25em;color: #696969;}#sk-container-id-3 label.sk-toggleable__label-arrow:hover:before {color: black;}#sk-container-id-3 div.sk-estimator:hover label.sk-toggleable__label-arrow:before {color: black;}#sk-container-id-3 div.sk-toggleable__content {max-height: 0;max-width: 0;overflow: hidden;text-align: left;background-color: #f0f8ff;}#sk-container-id-3 div.sk-toggleable__content pre {margin: 0.2em;color: black;border-radius: 0.25em;background-color: #f0f8ff;}#sk-container-id-3 input.sk-toggleable__control:checked~div.sk-toggleable__content {max-height: 200px;max-width: 100%;overflow: auto;}#sk-container-id-3 input.sk-toggleable__control:checked~label.sk-toggleable__label-arrow:before {content: \"▾\";}#sk-container-id-3 div.sk-estimator input.sk-toggleable__control:checked~label.sk-toggleable__label {background-color: #d4ebff;}#sk-container-id-3 div.sk-label input.sk-toggleable__control:checked~label.sk-toggleable__label {background-color: #d4ebff;}#sk-container-id-3 input.sk-hidden--visually {border: 0;clip: rect(1px 1px 1px 1px);clip: rect(1px, 1px, 1px, 1px);height: 1px;margin: -1px;overflow: hidden;padding: 0;position: absolute;width: 1px;}#sk-container-id-3 div.sk-estimator {font-family: monospace;background-color: #f0f8ff;border: 1px dotted black;border-radius: 0.25em;box-sizing: border-box;margin-bottom: 0.5em;}#sk-container-id-3 div.sk-estimator:hover {background-color: #d4ebff;}#sk-container-id-3 div.sk-parallel-item::after {content: \"\";width: 100%;border-bottom: 1px solid gray;flex-grow: 1;}#sk-container-id-3 div.sk-label:hover label.sk-toggleable__label {background-color: #d4ebff;}#sk-container-id-3 div.sk-serial::before {content: \"\";position: absolute;border-left: 1px solid gray;box-sizing: border-box;top: 0;bottom: 0;left: 50%;z-index: 0;}#sk-container-id-3 div.sk-serial {display: flex;flex-direction: column;align-items: center;background-color: white;padding-right: 0.2em;padding-left: 0.2em;position: relative;}#sk-container-id-3 div.sk-item {position: relative;z-index: 1;}#sk-container-id-3 div.sk-parallel {display: flex;align-items: stretch;justify-content: center;background-color: white;position: relative;}#sk-container-id-3 div.sk-item::before, #sk-container-id-3 div.sk-parallel-item::before {content: \"\";position: absolute;border-left: 1px solid gray;box-sizing: border-box;top: 0;bottom: 0;left: 50%;z-index: -1;}#sk-container-id-3 div.sk-parallel-item {display: flex;flex-direction: column;z-index: 1;position: relative;background-color: white;}#sk-container-id-3 div.sk-parallel-item:first-child::after {align-self: flex-end;width: 50%;}#sk-container-id-3 div.sk-parallel-item:last-child::after {align-self: flex-start;width: 50%;}#sk-container-id-3 div.sk-parallel-item:only-child::after {width: 0;}#sk-container-id-3 div.sk-dashed-wrapped {border: 1px dashed gray;margin: 0 0.4em 0.5em 0.4em;box-sizing: border-box;padding-bottom: 0.4em;background-color: white;}#sk-container-id-3 div.sk-label label {font-family: monospace;font-weight: bold;display: inline-block;line-height: 1.2em;}#sk-container-id-3 div.sk-label-container {text-align: center;}#sk-container-id-3 div.sk-container {/* jupyter's `normalize.less` sets `[hidden] { display: none; }` but bootstrap.min.css set `[hidden] { display: none !important; }` so we also need the `!important` here to be able to override the default hidden behavior on the sphinx rendered scikit-learn.org. See: https://github.com/scikit-learn/scikit-learn/issues/21755 */display: inline-block !important;position: relative;}#sk-container-id-3 div.sk-text-repr-fallback {display: none;}</style><div id=\"sk-container-id-3\" class=\"sk-top-container\"><div class=\"sk-text-repr-fallback\"><pre>GridSearchCV(cv=10, estimator=KNeighborsClassifier(),\n",
       "             param_grid={&#x27;n_neighbors&#x27;: range(1, 26, 2)})</pre><b>In a Jupyter environment, please rerun this cell to show the HTML representation or trust the notebook. <br />On GitHub, the HTML representation is unable to render, please try loading this page with nbviewer.org.</b></div><div class=\"sk-container\" hidden><div class=\"sk-item sk-dashed-wrapped\"><div class=\"sk-label-container\"><div class=\"sk-label sk-toggleable\"><input class=\"sk-toggleable__control sk-hidden--visually\" id=\"sk-estimator-id-3\" type=\"checkbox\" ><label for=\"sk-estimator-id-3\" class=\"sk-toggleable__label sk-toggleable__label-arrow\">GridSearchCV</label><div class=\"sk-toggleable__content\"><pre>GridSearchCV(cv=10, estimator=KNeighborsClassifier(),\n",
       "             param_grid={&#x27;n_neighbors&#x27;: range(1, 26, 2)})</pre></div></div></div><div class=\"sk-parallel\"><div class=\"sk-parallel-item\"><div class=\"sk-item\"><div class=\"sk-label-container\"><div class=\"sk-label sk-toggleable\"><input class=\"sk-toggleable__control sk-hidden--visually\" id=\"sk-estimator-id-4\" type=\"checkbox\" ><label for=\"sk-estimator-id-4\" class=\"sk-toggleable__label sk-toggleable__label-arrow\">estimator: KNeighborsClassifier</label><div class=\"sk-toggleable__content\"><pre>KNeighborsClassifier()</pre></div></div></div><div class=\"sk-serial\"><div class=\"sk-item\"><div class=\"sk-estimator sk-toggleable\"><input class=\"sk-toggleable__control sk-hidden--visually\" id=\"sk-estimator-id-5\" type=\"checkbox\" ><label for=\"sk-estimator-id-5\" class=\"sk-toggleable__label sk-toggleable__label-arrow\">KNeighborsClassifier</label><div class=\"sk-toggleable__content\"><pre>KNeighborsClassifier()</pre></div></div></div></div></div></div></div></div></div></div>"
      ],
      "text/plain": [
       "GridSearchCV(cv=10, estimator=KNeighborsClassifier(),\n",
       "             param_grid={'n_neighbors': range(1, 26, 2)})"
      ]
     },
     "execution_count": 45,
     "metadata": {},
     "output_type": "execute_result"
    }
   ],
   "source": [
    "from sklearn.model_selection import GridSearchCV\n",
    "from sklearn.neighbors import KNeighborsClassifier\n",
    "\n",
    "# Defining the parameters (neighbors)\n",
    "param_knn = {'n_neighbors': range(1, 26, 2)}  \n",
    "\n",
    "# Training the k-NN model\n",
    "kn = KNeighborsClassifier()\n",
    "knn = GridSearchCV(kn, param_knn, cv = 10)\n",
    "knn.fit(x_train_scaled, y_train)"
   ]
  },
  {
   "cell_type": "code",
   "execution_count": 46,
   "id": "5e8793f1",
   "metadata": {},
   "outputs": [
    {
     "name": "stdout",
     "output_type": "stream",
     "text": [
      "The chosen hyperparamter (k) is {'n_neighbors': 1}\n",
      "Mean validation accuracy of the best model is 0.47401561576346357\n",
      "Test accuracy when the best k is applied is 0.47758026001591936\n"
     ]
    }
   ],
   "source": [
    "# Chosen hyperparameter (k)\n",
    "print(\"The chosen hyperparamter (k) is\", knn.best_params_)\n",
    "\n",
    "# Mean validation score of the chosen best model:\n",
    "print(\"Mean validation accuracy of the best model is\", knn.best_score_)\n",
    "\n",
    "# Test accuracy \n",
    "print(\"Test accuracy when the best k is applied is\", knn.score(x_test_scaled, y_test))"
   ]
  },
  {
   "cell_type": "code",
   "execution_count": 47,
   "id": "ec079934",
   "metadata": {},
   "outputs": [],
   "source": [
    "y_pred3 = knn.predict(x_test_scaled)\n",
    "acc3 = accuracy_score(y_test, y_pred3)*100\n",
    "rmse3 = mean_squared_error(y_test, y_pred3)"
   ]
  },
  {
   "cell_type": "code",
   "execution_count": 48,
   "id": "7f391e0f",
   "metadata": {},
   "outputs": [
    {
     "name": "stdout",
     "output_type": "stream",
     "text": [
      "              precision    recall  f1-score   support\n",
      "\n",
      "           1       0.60      0.64      0.62      9422\n",
      "           2       0.43      0.41      0.42      9423\n",
      "           3       0.45      0.45      0.45      9422\n",
      "           4       0.42      0.41      0.41      9423\n",
      "\n",
      "    accuracy                           0.48     37690\n",
      "   macro avg       0.47      0.48      0.48     37690\n",
      "weighted avg       0.47      0.48      0.48     37690\n",
      "\n"
     ]
    }
   ],
   "source": [
    "print(classification_report(y_test, y_pred3))"
   ]
  },
  {
   "cell_type": "markdown",
   "id": "51464805",
   "metadata": {},
   "source": [
    "### Decision Tree"
   ]
  },
  {
   "cell_type": "code",
   "execution_count": 49,
   "id": "8dd6d04f",
   "metadata": {},
   "outputs": [
    {
     "data": {
      "text/html": [
       "<style>#sk-container-id-4 {color: black;background-color: white;}#sk-container-id-4 pre{padding: 0;}#sk-container-id-4 div.sk-toggleable {background-color: white;}#sk-container-id-4 label.sk-toggleable__label {cursor: pointer;display: block;width: 100%;margin-bottom: 0;padding: 0.3em;box-sizing: border-box;text-align: center;}#sk-container-id-4 label.sk-toggleable__label-arrow:before {content: \"▸\";float: left;margin-right: 0.25em;color: #696969;}#sk-container-id-4 label.sk-toggleable__label-arrow:hover:before {color: black;}#sk-container-id-4 div.sk-estimator:hover label.sk-toggleable__label-arrow:before {color: black;}#sk-container-id-4 div.sk-toggleable__content {max-height: 0;max-width: 0;overflow: hidden;text-align: left;background-color: #f0f8ff;}#sk-container-id-4 div.sk-toggleable__content pre {margin: 0.2em;color: black;border-radius: 0.25em;background-color: #f0f8ff;}#sk-container-id-4 input.sk-toggleable__control:checked~div.sk-toggleable__content {max-height: 200px;max-width: 100%;overflow: auto;}#sk-container-id-4 input.sk-toggleable__control:checked~label.sk-toggleable__label-arrow:before {content: \"▾\";}#sk-container-id-4 div.sk-estimator input.sk-toggleable__control:checked~label.sk-toggleable__label {background-color: #d4ebff;}#sk-container-id-4 div.sk-label input.sk-toggleable__control:checked~label.sk-toggleable__label {background-color: #d4ebff;}#sk-container-id-4 input.sk-hidden--visually {border: 0;clip: rect(1px 1px 1px 1px);clip: rect(1px, 1px, 1px, 1px);height: 1px;margin: -1px;overflow: hidden;padding: 0;position: absolute;width: 1px;}#sk-container-id-4 div.sk-estimator {font-family: monospace;background-color: #f0f8ff;border: 1px dotted black;border-radius: 0.25em;box-sizing: border-box;margin-bottom: 0.5em;}#sk-container-id-4 div.sk-estimator:hover {background-color: #d4ebff;}#sk-container-id-4 div.sk-parallel-item::after {content: \"\";width: 100%;border-bottom: 1px solid gray;flex-grow: 1;}#sk-container-id-4 div.sk-label:hover label.sk-toggleable__label {background-color: #d4ebff;}#sk-container-id-4 div.sk-serial::before {content: \"\";position: absolute;border-left: 1px solid gray;box-sizing: border-box;top: 0;bottom: 0;left: 50%;z-index: 0;}#sk-container-id-4 div.sk-serial {display: flex;flex-direction: column;align-items: center;background-color: white;padding-right: 0.2em;padding-left: 0.2em;position: relative;}#sk-container-id-4 div.sk-item {position: relative;z-index: 1;}#sk-container-id-4 div.sk-parallel {display: flex;align-items: stretch;justify-content: center;background-color: white;position: relative;}#sk-container-id-4 div.sk-item::before, #sk-container-id-4 div.sk-parallel-item::before {content: \"\";position: absolute;border-left: 1px solid gray;box-sizing: border-box;top: 0;bottom: 0;left: 50%;z-index: -1;}#sk-container-id-4 div.sk-parallel-item {display: flex;flex-direction: column;z-index: 1;position: relative;background-color: white;}#sk-container-id-4 div.sk-parallel-item:first-child::after {align-self: flex-end;width: 50%;}#sk-container-id-4 div.sk-parallel-item:last-child::after {align-self: flex-start;width: 50%;}#sk-container-id-4 div.sk-parallel-item:only-child::after {width: 0;}#sk-container-id-4 div.sk-dashed-wrapped {border: 1px dashed gray;margin: 0 0.4em 0.5em 0.4em;box-sizing: border-box;padding-bottom: 0.4em;background-color: white;}#sk-container-id-4 div.sk-label label {font-family: monospace;font-weight: bold;display: inline-block;line-height: 1.2em;}#sk-container-id-4 div.sk-label-container {text-align: center;}#sk-container-id-4 div.sk-container {/* jupyter's `normalize.less` sets `[hidden] { display: none; }` but bootstrap.min.css set `[hidden] { display: none !important; }` so we also need the `!important` here to be able to override the default hidden behavior on the sphinx rendered scikit-learn.org. See: https://github.com/scikit-learn/scikit-learn/issues/21755 */display: inline-block !important;position: relative;}#sk-container-id-4 div.sk-text-repr-fallback {display: none;}</style><div id=\"sk-container-id-4\" class=\"sk-top-container\"><div class=\"sk-text-repr-fallback\"><pre>GridSearchCV(cv=5, estimator=DecisionTreeClassifier(random_state=0),\n",
       "             param_grid={&#x27;max_depth&#x27;: range(1, 10),\n",
       "                         &#x27;max_leaf_nodes&#x27;: range(2, 11),\n",
       "                         &#x27;min_samples_split&#x27;: range(2, 11)})</pre><b>In a Jupyter environment, please rerun this cell to show the HTML representation or trust the notebook. <br />On GitHub, the HTML representation is unable to render, please try loading this page with nbviewer.org.</b></div><div class=\"sk-container\" hidden><div class=\"sk-item sk-dashed-wrapped\"><div class=\"sk-label-container\"><div class=\"sk-label sk-toggleable\"><input class=\"sk-toggleable__control sk-hidden--visually\" id=\"sk-estimator-id-6\" type=\"checkbox\" ><label for=\"sk-estimator-id-6\" class=\"sk-toggleable__label sk-toggleable__label-arrow\">GridSearchCV</label><div class=\"sk-toggleable__content\"><pre>GridSearchCV(cv=5, estimator=DecisionTreeClassifier(random_state=0),\n",
       "             param_grid={&#x27;max_depth&#x27;: range(1, 10),\n",
       "                         &#x27;max_leaf_nodes&#x27;: range(2, 11),\n",
       "                         &#x27;min_samples_split&#x27;: range(2, 11)})</pre></div></div></div><div class=\"sk-parallel\"><div class=\"sk-parallel-item\"><div class=\"sk-item\"><div class=\"sk-label-container\"><div class=\"sk-label sk-toggleable\"><input class=\"sk-toggleable__control sk-hidden--visually\" id=\"sk-estimator-id-7\" type=\"checkbox\" ><label for=\"sk-estimator-id-7\" class=\"sk-toggleable__label sk-toggleable__label-arrow\">estimator: DecisionTreeClassifier</label><div class=\"sk-toggleable__content\"><pre>DecisionTreeClassifier(random_state=0)</pre></div></div></div><div class=\"sk-serial\"><div class=\"sk-item\"><div class=\"sk-estimator sk-toggleable\"><input class=\"sk-toggleable__control sk-hidden--visually\" id=\"sk-estimator-id-8\" type=\"checkbox\" ><label for=\"sk-estimator-id-8\" class=\"sk-toggleable__label sk-toggleable__label-arrow\">DecisionTreeClassifier</label><div class=\"sk-toggleable__content\"><pre>DecisionTreeClassifier(random_state=0)</pre></div></div></div></div></div></div></div></div></div></div>"
      ],
      "text/plain": [
       "GridSearchCV(cv=5, estimator=DecisionTreeClassifier(random_state=0),\n",
       "             param_grid={'max_depth': range(1, 10),\n",
       "                         'max_leaf_nodes': range(2, 11),\n",
       "                         'min_samples_split': range(2, 11)})"
      ]
     },
     "execution_count": 49,
     "metadata": {},
     "output_type": "execute_result"
    }
   ],
   "source": [
    "from sklearn.tree import DecisionTreeClassifier\n",
    "from sklearn.model_selection import GridSearchCV\n",
    "\n",
    "# Defining the function\n",
    "opt_tree = DecisionTreeClassifier(random_state = 0)\n",
    "\n",
    "# Defining a list of parameters\n",
    "dt_params = {'max_depth':  range(1,10)         ,\n",
    "             'min_samples_split':   range(2,11),\n",
    "             'max_leaf_nodes':    range(2,50)   }\n",
    "\n",
    "# Applying grid search and training the model\n",
    "grid_tree = GridSearchCV(opt_tree, dt_params, cv= 5)\n",
    "grid_tree.fit(x_train_scaled, y_train)"
   ]
  },
  {
   "cell_type": "code",
   "execution_count": 50,
   "id": "25c8386e",
   "metadata": {},
   "outputs": [
    {
     "name": "stdout",
     "output_type": "stream",
     "text": [
      "Best max_depth: {'max_depth': 5, 'max_leaf_nodes': 10, 'min_samples_split': 2}\n",
      "Mean Validation Score: 0.5688790537558385\n",
      "Test accuracy: 0.5639426903687981\n"
     ]
    }
   ],
   "source": [
    "# Best hyperparameter chosen:\n",
    "print('Best max_depth:', grid_tree.best_params_)\n",
    "\n",
    "# Best validation score through CV is:\n",
    "print('Mean Validation Score:', grid_tree.best_score_)\n",
    "\n",
    "# Test accuracy\n",
    "print('Test accuracy:', grid_tree.score(x_test_scaled, y_test))"
   ]
  },
  {
   "cell_type": "code",
   "execution_count": 51,
   "id": "6e130d8e",
   "metadata": {},
   "outputs": [
    {
     "name": "stdout",
     "output_type": "stream",
     "text": [
      "|--- feature_2 <= 0.00\n",
      "|   |--- feature_0 <= 0.57\n",
      "|   |   |--- feature_11 <= 0.50\n",
      "|   |   |   |--- feature_0 <= 0.43\n",
      "|   |   |   |   |--- feature_1 <= 0.19\n",
      "|   |   |   |   |   |--- class: 2\n",
      "|   |   |   |   |--- feature_1 >  0.19\n",
      "|   |   |   |   |   |--- class: 1\n",
      "|   |   |   |--- feature_0 >  0.43\n",
      "|   |   |   |   |--- class: 1\n",
      "|   |   |--- feature_11 >  0.50\n",
      "|   |   |   |--- class: 1\n",
      "|   |--- feature_0 >  0.57\n",
      "|   |   |--- feature_1 <= 0.27\n",
      "|   |   |   |--- class: 1\n",
      "|   |   |--- feature_1 >  0.27\n",
      "|   |   |   |--- class: 3\n",
      "|--- feature_2 >  0.00\n",
      "|   |--- feature_0 <= 0.55\n",
      "|   |   |--- feature_2 <= 0.00\n",
      "|   |   |   |--- class: 2\n",
      "|   |   |--- feature_2 >  0.00\n",
      "|   |   |   |--- class: 2\n",
      "|   |--- feature_0 >  0.55\n",
      "|   |   |--- feature_1 <= 0.66\n",
      "|   |   |   |--- class: 4\n",
      "|   |   |--- feature_1 >  0.66\n",
      "|   |   |   |--- class: 4\n",
      "\n"
     ]
    }
   ],
   "source": [
    "from sklearn import tree\n",
    "print(tree.export_text(grid_tree.best_estimator_))"
   ]
  },
  {
   "cell_type": "code",
   "execution_count": 52,
   "id": "3a99e8db",
   "metadata": {},
   "outputs": [],
   "source": [
    "y_pred4 = grid_tree.predict(x_test_scaled)\n",
    "acc4 = accuracy_score(y_test, y_pred4)*100\n",
    "rmse4 = mean_squared_error(y_test, y_pred4)"
   ]
  },
  {
   "cell_type": "code",
   "execution_count": 53,
   "id": "fdb205a2",
   "metadata": {},
   "outputs": [
    {
     "name": "stdout",
     "output_type": "stream",
     "text": [
      "              precision    recall  f1-score   support\n",
      "\n",
      "           1       0.75      0.81      0.78      9422\n",
      "           2       0.47      0.59      0.53      9423\n",
      "           3       0.67      0.28      0.39      9422\n",
      "           4       0.46      0.58      0.51      9423\n",
      "\n",
      "    accuracy                           0.56     37690\n",
      "   macro avg       0.59      0.56      0.55     37690\n",
      "weighted avg       0.59      0.56      0.55     37690\n",
      "\n"
     ]
    }
   ],
   "source": [
    "print(classification_report(y_test, y_pred4))"
   ]
  },
  {
   "cell_type": "markdown",
   "id": "e18a11c0",
   "metadata": {},
   "source": [
    "### Naive Bayes"
   ]
  },
  {
   "cell_type": "code",
   "execution_count": 54,
   "id": "45b62674",
   "metadata": {},
   "outputs": [
    {
     "data": {
      "text/html": [
       "<style>#sk-container-id-5 {color: black;background-color: white;}#sk-container-id-5 pre{padding: 0;}#sk-container-id-5 div.sk-toggleable {background-color: white;}#sk-container-id-5 label.sk-toggleable__label {cursor: pointer;display: block;width: 100%;margin-bottom: 0;padding: 0.3em;box-sizing: border-box;text-align: center;}#sk-container-id-5 label.sk-toggleable__label-arrow:before {content: \"▸\";float: left;margin-right: 0.25em;color: #696969;}#sk-container-id-5 label.sk-toggleable__label-arrow:hover:before {color: black;}#sk-container-id-5 div.sk-estimator:hover label.sk-toggleable__label-arrow:before {color: black;}#sk-container-id-5 div.sk-toggleable__content {max-height: 0;max-width: 0;overflow: hidden;text-align: left;background-color: #f0f8ff;}#sk-container-id-5 div.sk-toggleable__content pre {margin: 0.2em;color: black;border-radius: 0.25em;background-color: #f0f8ff;}#sk-container-id-5 input.sk-toggleable__control:checked~div.sk-toggleable__content {max-height: 200px;max-width: 100%;overflow: auto;}#sk-container-id-5 input.sk-toggleable__control:checked~label.sk-toggleable__label-arrow:before {content: \"▾\";}#sk-container-id-5 div.sk-estimator input.sk-toggleable__control:checked~label.sk-toggleable__label {background-color: #d4ebff;}#sk-container-id-5 div.sk-label input.sk-toggleable__control:checked~label.sk-toggleable__label {background-color: #d4ebff;}#sk-container-id-5 input.sk-hidden--visually {border: 0;clip: rect(1px 1px 1px 1px);clip: rect(1px, 1px, 1px, 1px);height: 1px;margin: -1px;overflow: hidden;padding: 0;position: absolute;width: 1px;}#sk-container-id-5 div.sk-estimator {font-family: monospace;background-color: #f0f8ff;border: 1px dotted black;border-radius: 0.25em;box-sizing: border-box;margin-bottom: 0.5em;}#sk-container-id-5 div.sk-estimator:hover {background-color: #d4ebff;}#sk-container-id-5 div.sk-parallel-item::after {content: \"\";width: 100%;border-bottom: 1px solid gray;flex-grow: 1;}#sk-container-id-5 div.sk-label:hover label.sk-toggleable__label {background-color: #d4ebff;}#sk-container-id-5 div.sk-serial::before {content: \"\";position: absolute;border-left: 1px solid gray;box-sizing: border-box;top: 0;bottom: 0;left: 50%;z-index: 0;}#sk-container-id-5 div.sk-serial {display: flex;flex-direction: column;align-items: center;background-color: white;padding-right: 0.2em;padding-left: 0.2em;position: relative;}#sk-container-id-5 div.sk-item {position: relative;z-index: 1;}#sk-container-id-5 div.sk-parallel {display: flex;align-items: stretch;justify-content: center;background-color: white;position: relative;}#sk-container-id-5 div.sk-item::before, #sk-container-id-5 div.sk-parallel-item::before {content: \"\";position: absolute;border-left: 1px solid gray;box-sizing: border-box;top: 0;bottom: 0;left: 50%;z-index: -1;}#sk-container-id-5 div.sk-parallel-item {display: flex;flex-direction: column;z-index: 1;position: relative;background-color: white;}#sk-container-id-5 div.sk-parallel-item:first-child::after {align-self: flex-end;width: 50%;}#sk-container-id-5 div.sk-parallel-item:last-child::after {align-self: flex-start;width: 50%;}#sk-container-id-5 div.sk-parallel-item:only-child::after {width: 0;}#sk-container-id-5 div.sk-dashed-wrapped {border: 1px dashed gray;margin: 0 0.4em 0.5em 0.4em;box-sizing: border-box;padding-bottom: 0.4em;background-color: white;}#sk-container-id-5 div.sk-label label {font-family: monospace;font-weight: bold;display: inline-block;line-height: 1.2em;}#sk-container-id-5 div.sk-label-container {text-align: center;}#sk-container-id-5 div.sk-container {/* jupyter's `normalize.less` sets `[hidden] { display: none; }` but bootstrap.min.css set `[hidden] { display: none !important; }` so we also need the `!important` here to be able to override the default hidden behavior on the sphinx rendered scikit-learn.org. See: https://github.com/scikit-learn/scikit-learn/issues/21755 */display: inline-block !important;position: relative;}#sk-container-id-5 div.sk-text-repr-fallback {display: none;}</style><div id=\"sk-container-id-5\" class=\"sk-top-container\"><div class=\"sk-text-repr-fallback\"><pre>GaussianNB()</pre><b>In a Jupyter environment, please rerun this cell to show the HTML representation or trust the notebook. <br />On GitHub, the HTML representation is unable to render, please try loading this page with nbviewer.org.</b></div><div class=\"sk-container\" hidden><div class=\"sk-item\"><div class=\"sk-estimator sk-toggleable\"><input class=\"sk-toggleable__control sk-hidden--visually\" id=\"sk-estimator-id-9\" type=\"checkbox\" checked><label for=\"sk-estimator-id-9\" class=\"sk-toggleable__label sk-toggleable__label-arrow\">GaussianNB</label><div class=\"sk-toggleable__content\"><pre>GaussianNB()</pre></div></div></div></div></div>"
      ],
      "text/plain": [
       "GaussianNB()"
      ]
     },
     "execution_count": 54,
     "metadata": {},
     "output_type": "execute_result"
    }
   ],
   "source": [
    "from sklearn.naive_bayes import GaussianNB\n",
    "\n",
    "g_nb = GaussianNB()\n",
    "\n",
    "g_nb.fit(x_train_scaled, y_train)"
   ]
  },
  {
   "cell_type": "code",
   "execution_count": 55,
   "id": "af06dbbd",
   "metadata": {},
   "outputs": [
    {
     "data": {
      "text/plain": [
       "0.269859379145662"
      ]
     },
     "execution_count": 55,
     "metadata": {},
     "output_type": "execute_result"
    }
   ],
   "source": [
    "g_nb.score(x_test_scaled, y_test)"
   ]
  },
  {
   "cell_type": "code",
   "execution_count": 56,
   "id": "f7eaf965",
   "metadata": {},
   "outputs": [],
   "source": [
    "y_pred5 = g_nb.predict(x_test_scaled)\n",
    "acc5 = accuracy_score(y_test, y_pred5)*100\n",
    "rmse5 = mean_squared_error(y_test, y_pred5)"
   ]
  },
  {
   "cell_type": "code",
   "execution_count": 57,
   "id": "b9d63c01",
   "metadata": {},
   "outputs": [
    {
     "name": "stdout",
     "output_type": "stream",
     "text": [
      "              precision    recall  f1-score   support\n",
      "\n",
      "           1       0.26      0.99      0.41      9422\n",
      "           2       0.29      0.04      0.07      9423\n",
      "           3       0.48      0.04      0.07      9422\n",
      "           4       0.54      0.02      0.03      9423\n",
      "\n",
      "    accuracy                           0.27     37690\n",
      "   macro avg       0.39      0.27      0.15     37690\n",
      "weighted avg       0.39      0.27      0.15     37690\n",
      "\n"
     ]
    }
   ],
   "source": [
    "print(classification_report(y_test, y_pred5))"
   ]
  },
  {
   "cell_type": "markdown",
   "id": "5c371c1c",
   "metadata": {},
   "source": [
    "### SVM: Linear"
   ]
  },
  {
   "cell_type": "code",
   "execution_count": 71,
   "id": "98ac9ce2",
   "metadata": {},
   "outputs": [
    {
     "name": "stderr",
     "output_type": "stream",
     "text": [
      "/Users/venkie/opt/anaconda3/lib/python3.9/site-packages/sklearn/svm/_base.py:1225: ConvergenceWarning: Liblinear failed to converge, increase the number of iterations.\n",
      "  warnings.warn(\n",
      "/Users/venkie/opt/anaconda3/lib/python3.9/site-packages/sklearn/svm/_base.py:1225: ConvergenceWarning: Liblinear failed to converge, increase the number of iterations.\n",
      "  warnings.warn(\n",
      "/Users/venkie/opt/anaconda3/lib/python3.9/site-packages/sklearn/svm/_base.py:1225: ConvergenceWarning: Liblinear failed to converge, increase the number of iterations.\n",
      "  warnings.warn(\n",
      "/Users/venkie/opt/anaconda3/lib/python3.9/site-packages/sklearn/svm/_base.py:1225: ConvergenceWarning: Liblinear failed to converge, increase the number of iterations.\n",
      "  warnings.warn(\n",
      "/Users/venkie/opt/anaconda3/lib/python3.9/site-packages/sklearn/svm/_base.py:1225: ConvergenceWarning: Liblinear failed to converge, increase the number of iterations.\n",
      "  warnings.warn(\n",
      "/Users/venkie/opt/anaconda3/lib/python3.9/site-packages/sklearn/svm/_base.py:1225: ConvergenceWarning: Liblinear failed to converge, increase the number of iterations.\n",
      "  warnings.warn(\n",
      "/Users/venkie/opt/anaconda3/lib/python3.9/site-packages/sklearn/svm/_base.py:1225: ConvergenceWarning: Liblinear failed to converge, increase the number of iterations.\n",
      "  warnings.warn(\n",
      "/Users/venkie/opt/anaconda3/lib/python3.9/site-packages/sklearn/svm/_base.py:1225: ConvergenceWarning: Liblinear failed to converge, increase the number of iterations.\n",
      "  warnings.warn(\n",
      "/Users/venkie/opt/anaconda3/lib/python3.9/site-packages/sklearn/svm/_base.py:1225: ConvergenceWarning: Liblinear failed to converge, increase the number of iterations.\n",
      "  warnings.warn(\n",
      "/Users/venkie/opt/anaconda3/lib/python3.9/site-packages/sklearn/svm/_base.py:1225: ConvergenceWarning: Liblinear failed to converge, increase the number of iterations.\n",
      "  warnings.warn(\n",
      "/Users/venkie/opt/anaconda3/lib/python3.9/site-packages/sklearn/svm/_base.py:1225: ConvergenceWarning: Liblinear failed to converge, increase the number of iterations.\n",
      "  warnings.warn(\n",
      "/Users/venkie/opt/anaconda3/lib/python3.9/site-packages/sklearn/svm/_base.py:1225: ConvergenceWarning: Liblinear failed to converge, increase the number of iterations.\n",
      "  warnings.warn(\n",
      "/Users/venkie/opt/anaconda3/lib/python3.9/site-packages/sklearn/svm/_base.py:1225: ConvergenceWarning: Liblinear failed to converge, increase the number of iterations.\n",
      "  warnings.warn(\n",
      "/Users/venkie/opt/anaconda3/lib/python3.9/site-packages/sklearn/svm/_base.py:1225: ConvergenceWarning: Liblinear failed to converge, increase the number of iterations.\n",
      "  warnings.warn(\n",
      "/Users/venkie/opt/anaconda3/lib/python3.9/site-packages/sklearn/svm/_base.py:1225: ConvergenceWarning: Liblinear failed to converge, increase the number of iterations.\n",
      "  warnings.warn(\n",
      "/Users/venkie/opt/anaconda3/lib/python3.9/site-packages/sklearn/svm/_base.py:1225: ConvergenceWarning: Liblinear failed to converge, increase the number of iterations.\n",
      "  warnings.warn(\n",
      "/Users/venkie/opt/anaconda3/lib/python3.9/site-packages/sklearn/svm/_base.py:1225: ConvergenceWarning: Liblinear failed to converge, increase the number of iterations.\n",
      "  warnings.warn(\n",
      "/Users/venkie/opt/anaconda3/lib/python3.9/site-packages/sklearn/svm/_base.py:1225: ConvergenceWarning: Liblinear failed to converge, increase the number of iterations.\n",
      "  warnings.warn(\n",
      "/Users/venkie/opt/anaconda3/lib/python3.9/site-packages/sklearn/svm/_base.py:1225: ConvergenceWarning: Liblinear failed to converge, increase the number of iterations.\n",
      "  warnings.warn(\n",
      "/Users/venkie/opt/anaconda3/lib/python3.9/site-packages/sklearn/svm/_base.py:1225: ConvergenceWarning: Liblinear failed to converge, increase the number of iterations.\n",
      "  warnings.warn(\n"
     ]
    },
    {
     "data": {
      "text/html": [
       "<style>#sk-container-id-9 {color: black;background-color: white;}#sk-container-id-9 pre{padding: 0;}#sk-container-id-9 div.sk-toggleable {background-color: white;}#sk-container-id-9 label.sk-toggleable__label {cursor: pointer;display: block;width: 100%;margin-bottom: 0;padding: 0.3em;box-sizing: border-box;text-align: center;}#sk-container-id-9 label.sk-toggleable__label-arrow:before {content: \"▸\";float: left;margin-right: 0.25em;color: #696969;}#sk-container-id-9 label.sk-toggleable__label-arrow:hover:before {color: black;}#sk-container-id-9 div.sk-estimator:hover label.sk-toggleable__label-arrow:before {color: black;}#sk-container-id-9 div.sk-toggleable__content {max-height: 0;max-width: 0;overflow: hidden;text-align: left;background-color: #f0f8ff;}#sk-container-id-9 div.sk-toggleable__content pre {margin: 0.2em;color: black;border-radius: 0.25em;background-color: #f0f8ff;}#sk-container-id-9 input.sk-toggleable__control:checked~div.sk-toggleable__content {max-height: 200px;max-width: 100%;overflow: auto;}#sk-container-id-9 input.sk-toggleable__control:checked~label.sk-toggleable__label-arrow:before {content: \"▾\";}#sk-container-id-9 div.sk-estimator input.sk-toggleable__control:checked~label.sk-toggleable__label {background-color: #d4ebff;}#sk-container-id-9 div.sk-label input.sk-toggleable__control:checked~label.sk-toggleable__label {background-color: #d4ebff;}#sk-container-id-9 input.sk-hidden--visually {border: 0;clip: rect(1px 1px 1px 1px);clip: rect(1px, 1px, 1px, 1px);height: 1px;margin: -1px;overflow: hidden;padding: 0;position: absolute;width: 1px;}#sk-container-id-9 div.sk-estimator {font-family: monospace;background-color: #f0f8ff;border: 1px dotted black;border-radius: 0.25em;box-sizing: border-box;margin-bottom: 0.5em;}#sk-container-id-9 div.sk-estimator:hover {background-color: #d4ebff;}#sk-container-id-9 div.sk-parallel-item::after {content: \"\";width: 100%;border-bottom: 1px solid gray;flex-grow: 1;}#sk-container-id-9 div.sk-label:hover label.sk-toggleable__label {background-color: #d4ebff;}#sk-container-id-9 div.sk-serial::before {content: \"\";position: absolute;border-left: 1px solid gray;box-sizing: border-box;top: 0;bottom: 0;left: 50%;z-index: 0;}#sk-container-id-9 div.sk-serial {display: flex;flex-direction: column;align-items: center;background-color: white;padding-right: 0.2em;padding-left: 0.2em;position: relative;}#sk-container-id-9 div.sk-item {position: relative;z-index: 1;}#sk-container-id-9 div.sk-parallel {display: flex;align-items: stretch;justify-content: center;background-color: white;position: relative;}#sk-container-id-9 div.sk-item::before, #sk-container-id-9 div.sk-parallel-item::before {content: \"\";position: absolute;border-left: 1px solid gray;box-sizing: border-box;top: 0;bottom: 0;left: 50%;z-index: -1;}#sk-container-id-9 div.sk-parallel-item {display: flex;flex-direction: column;z-index: 1;position: relative;background-color: white;}#sk-container-id-9 div.sk-parallel-item:first-child::after {align-self: flex-end;width: 50%;}#sk-container-id-9 div.sk-parallel-item:last-child::after {align-self: flex-start;width: 50%;}#sk-container-id-9 div.sk-parallel-item:only-child::after {width: 0;}#sk-container-id-9 div.sk-dashed-wrapped {border: 1px dashed gray;margin: 0 0.4em 0.5em 0.4em;box-sizing: border-box;padding-bottom: 0.4em;background-color: white;}#sk-container-id-9 div.sk-label label {font-family: monospace;font-weight: bold;display: inline-block;line-height: 1.2em;}#sk-container-id-9 div.sk-label-container {text-align: center;}#sk-container-id-9 div.sk-container {/* jupyter's `normalize.less` sets `[hidden] { display: none; }` but bootstrap.min.css set `[hidden] { display: none !important; }` so we also need the `!important` here to be able to override the default hidden behavior on the sphinx rendered scikit-learn.org. See: https://github.com/scikit-learn/scikit-learn/issues/21755 */display: inline-block !important;position: relative;}#sk-container-id-9 div.sk-text-repr-fallback {display: none;}</style><div id=\"sk-container-id-9\" class=\"sk-top-container\"><div class=\"sk-text-repr-fallback\"><pre>GridSearchCV(cv=5, estimator=LinearSVC(random_state=0), n_jobs=-1,\n",
       "             param_grid={&#x27;C&#x27;: [0.001, 0.01, 0.1, 1, 10, 100, 10000, 1000000]})</pre><b>In a Jupyter environment, please rerun this cell to show the HTML representation or trust the notebook. <br />On GitHub, the HTML representation is unable to render, please try loading this page with nbviewer.org.</b></div><div class=\"sk-container\" hidden><div class=\"sk-item sk-dashed-wrapped\"><div class=\"sk-label-container\"><div class=\"sk-label sk-toggleable\"><input class=\"sk-toggleable__control sk-hidden--visually\" id=\"sk-estimator-id-15\" type=\"checkbox\" ><label for=\"sk-estimator-id-15\" class=\"sk-toggleable__label sk-toggleable__label-arrow\">GridSearchCV</label><div class=\"sk-toggleable__content\"><pre>GridSearchCV(cv=5, estimator=LinearSVC(random_state=0), n_jobs=-1,\n",
       "             param_grid={&#x27;C&#x27;: [0.001, 0.01, 0.1, 1, 10, 100, 10000, 1000000]})</pre></div></div></div><div class=\"sk-parallel\"><div class=\"sk-parallel-item\"><div class=\"sk-item\"><div class=\"sk-label-container\"><div class=\"sk-label sk-toggleable\"><input class=\"sk-toggleable__control sk-hidden--visually\" id=\"sk-estimator-id-16\" type=\"checkbox\" ><label for=\"sk-estimator-id-16\" class=\"sk-toggleable__label sk-toggleable__label-arrow\">estimator: LinearSVC</label><div class=\"sk-toggleable__content\"><pre>LinearSVC(random_state=0)</pre></div></div></div><div class=\"sk-serial\"><div class=\"sk-item\"><div class=\"sk-estimator sk-toggleable\"><input class=\"sk-toggleable__control sk-hidden--visually\" id=\"sk-estimator-id-17\" type=\"checkbox\" ><label for=\"sk-estimator-id-17\" class=\"sk-toggleable__label sk-toggleable__label-arrow\">LinearSVC</label><div class=\"sk-toggleable__content\"><pre>LinearSVC(random_state=0)</pre></div></div></div></div></div></div></div></div></div></div>"
      ],
      "text/plain": [
       "GridSearchCV(cv=5, estimator=LinearSVC(random_state=0), n_jobs=-1,\n",
       "             param_grid={'C': [0.001, 0.01, 0.1, 1, 10, 100, 10000, 1000000]})"
      ]
     },
     "execution_count": 71,
     "metadata": {},
     "output_type": "execute_result"
    }
   ],
   "source": [
    "from sklearn.svm import LinearSVC\n",
    "from sklearn.model_selection import GridSearchCV\n",
    "\n",
    "# Defining the function\n",
    "linear_svc = LinearSVC(random_state = 0) # must specify random state here\n",
    "\n",
    "# Defining a list of parameters\n",
    "params_svc = {'C': [0.001, 0.01, 0.1, 1, 10, 100, 10000, 1000000]}\n",
    "\n",
    "# Applying grid search and training the model\n",
    "grid_lr_svc = GridSearchCV(linear_svc, params_svc, cv = 5, n_jobs = -1)\n",
    "grid_lr_svc.fit(x_train_scaled, y_train)"
   ]
  },
  {
   "cell_type": "code",
   "execution_count": 72,
   "id": "abcc3a35",
   "metadata": {},
   "outputs": [
    {
     "name": "stdout",
     "output_type": "stream",
     "text": [
      "Best C: {'C': 10}\n",
      "Mean Validation Score: 0.48082571781167915\n",
      "Test accuracy: 0.47712921199257097\n"
     ]
    }
   ],
   "source": [
    "# Best hyperparameter chosen:\n",
    "print('Best C:', grid_lr_svc.best_params_)\n",
    "\n",
    "# Best validation score through CV is:\n",
    "print('Mean Validation Score:', grid_lr_svc.best_score_)\n",
    "\n",
    "# Test accuracy\n",
    "print(\"Test accuracy:\", grid_lr_svc.score(x_test_scaled, y_test))"
   ]
  },
  {
   "cell_type": "code",
   "execution_count": 73,
   "id": "9837fc1a",
   "metadata": {},
   "outputs": [],
   "source": [
    "y_pred6 = grid_lr_svc.predict(x_test_scaled)\n",
    "acc6 = accuracy_score(y_test, y_pred6)*100\n",
    "rmse6 = mean_squared_error(y_test, y_pred6)"
   ]
  },
  {
   "cell_type": "code",
   "execution_count": 74,
   "id": "ed2fd63c",
   "metadata": {},
   "outputs": [
    {
     "name": "stdout",
     "output_type": "stream",
     "text": [
      "              precision    recall  f1-score   support\n",
      "\n",
      "           1       0.56      0.55      0.55      9422\n",
      "           2       0.43      0.47      0.45      9423\n",
      "           3       0.44      0.43      0.44      9422\n",
      "           4       0.48      0.46      0.47      9423\n",
      "\n",
      "    accuracy                           0.48     37690\n",
      "   macro avg       0.48      0.48      0.48     37690\n",
      "weighted avg       0.48      0.48      0.48     37690\n",
      "\n"
     ]
    }
   ],
   "source": [
    "print(classification_report(y_test, y_pred6))"
   ]
  },
  {
   "cell_type": "markdown",
   "id": "0936b960",
   "metadata": {},
   "source": [
    "### SVM: Kernel"
   ]
  },
  {
   "cell_type": "code",
   "execution_count": 75,
   "id": "b8cd33fe",
   "metadata": {},
   "outputs": [
    {
     "data": {
      "text/html": [
       "<style>#sk-container-id-10 {color: black;background-color: white;}#sk-container-id-10 pre{padding: 0;}#sk-container-id-10 div.sk-toggleable {background-color: white;}#sk-container-id-10 label.sk-toggleable__label {cursor: pointer;display: block;width: 100%;margin-bottom: 0;padding: 0.3em;box-sizing: border-box;text-align: center;}#sk-container-id-10 label.sk-toggleable__label-arrow:before {content: \"▸\";float: left;margin-right: 0.25em;color: #696969;}#sk-container-id-10 label.sk-toggleable__label-arrow:hover:before {color: black;}#sk-container-id-10 div.sk-estimator:hover label.sk-toggleable__label-arrow:before {color: black;}#sk-container-id-10 div.sk-toggleable__content {max-height: 0;max-width: 0;overflow: hidden;text-align: left;background-color: #f0f8ff;}#sk-container-id-10 div.sk-toggleable__content pre {margin: 0.2em;color: black;border-radius: 0.25em;background-color: #f0f8ff;}#sk-container-id-10 input.sk-toggleable__control:checked~div.sk-toggleable__content {max-height: 200px;max-width: 100%;overflow: auto;}#sk-container-id-10 input.sk-toggleable__control:checked~label.sk-toggleable__label-arrow:before {content: \"▾\";}#sk-container-id-10 div.sk-estimator input.sk-toggleable__control:checked~label.sk-toggleable__label {background-color: #d4ebff;}#sk-container-id-10 div.sk-label input.sk-toggleable__control:checked~label.sk-toggleable__label {background-color: #d4ebff;}#sk-container-id-10 input.sk-hidden--visually {border: 0;clip: rect(1px 1px 1px 1px);clip: rect(1px, 1px, 1px, 1px);height: 1px;margin: -1px;overflow: hidden;padding: 0;position: absolute;width: 1px;}#sk-container-id-10 div.sk-estimator {font-family: monospace;background-color: #f0f8ff;border: 1px dotted black;border-radius: 0.25em;box-sizing: border-box;margin-bottom: 0.5em;}#sk-container-id-10 div.sk-estimator:hover {background-color: #d4ebff;}#sk-container-id-10 div.sk-parallel-item::after {content: \"\";width: 100%;border-bottom: 1px solid gray;flex-grow: 1;}#sk-container-id-10 div.sk-label:hover label.sk-toggleable__label {background-color: #d4ebff;}#sk-container-id-10 div.sk-serial::before {content: \"\";position: absolute;border-left: 1px solid gray;box-sizing: border-box;top: 0;bottom: 0;left: 50%;z-index: 0;}#sk-container-id-10 div.sk-serial {display: flex;flex-direction: column;align-items: center;background-color: white;padding-right: 0.2em;padding-left: 0.2em;position: relative;}#sk-container-id-10 div.sk-item {position: relative;z-index: 1;}#sk-container-id-10 div.sk-parallel {display: flex;align-items: stretch;justify-content: center;background-color: white;position: relative;}#sk-container-id-10 div.sk-item::before, #sk-container-id-10 div.sk-parallel-item::before {content: \"\";position: absolute;border-left: 1px solid gray;box-sizing: border-box;top: 0;bottom: 0;left: 50%;z-index: -1;}#sk-container-id-10 div.sk-parallel-item {display: flex;flex-direction: column;z-index: 1;position: relative;background-color: white;}#sk-container-id-10 div.sk-parallel-item:first-child::after {align-self: flex-end;width: 50%;}#sk-container-id-10 div.sk-parallel-item:last-child::after {align-self: flex-start;width: 50%;}#sk-container-id-10 div.sk-parallel-item:only-child::after {width: 0;}#sk-container-id-10 div.sk-dashed-wrapped {border: 1px dashed gray;margin: 0 0.4em 0.5em 0.4em;box-sizing: border-box;padding-bottom: 0.4em;background-color: white;}#sk-container-id-10 div.sk-label label {font-family: monospace;font-weight: bold;display: inline-block;line-height: 1.2em;}#sk-container-id-10 div.sk-label-container {text-align: center;}#sk-container-id-10 div.sk-container {/* jupyter's `normalize.less` sets `[hidden] { display: none; }` but bootstrap.min.css set `[hidden] { display: none !important; }` so we also need the `!important` here to be able to override the default hidden behavior on the sphinx rendered scikit-learn.org. See: https://github.com/scikit-learn/scikit-learn/issues/21755 */display: inline-block !important;position: relative;}#sk-container-id-10 div.sk-text-repr-fallback {display: none;}</style><div id=\"sk-container-id-10\" class=\"sk-top-container\"><div class=\"sk-text-repr-fallback\"><pre>GridSearchCV(cv=5, estimator=SVC(random_state=0), n_jobs=-1,\n",
       "             param_grid={&#x27;C&#x27;: [0.1, 1, 10], &#x27;gamma&#x27;: [0.01, 1, 10]})</pre><b>In a Jupyter environment, please rerun this cell to show the HTML representation or trust the notebook. <br />On GitHub, the HTML representation is unable to render, please try loading this page with nbviewer.org.</b></div><div class=\"sk-container\" hidden><div class=\"sk-item sk-dashed-wrapped\"><div class=\"sk-label-container\"><div class=\"sk-label sk-toggleable\"><input class=\"sk-toggleable__control sk-hidden--visually\" id=\"sk-estimator-id-18\" type=\"checkbox\" ><label for=\"sk-estimator-id-18\" class=\"sk-toggleable__label sk-toggleable__label-arrow\">GridSearchCV</label><div class=\"sk-toggleable__content\"><pre>GridSearchCV(cv=5, estimator=SVC(random_state=0), n_jobs=-1,\n",
       "             param_grid={&#x27;C&#x27;: [0.1, 1, 10], &#x27;gamma&#x27;: [0.01, 1, 10]})</pre></div></div></div><div class=\"sk-parallel\"><div class=\"sk-parallel-item\"><div class=\"sk-item\"><div class=\"sk-label-container\"><div class=\"sk-label sk-toggleable\"><input class=\"sk-toggleable__control sk-hidden--visually\" id=\"sk-estimator-id-19\" type=\"checkbox\" ><label for=\"sk-estimator-id-19\" class=\"sk-toggleable__label sk-toggleable__label-arrow\">estimator: SVC</label><div class=\"sk-toggleable__content\"><pre>SVC(random_state=0)</pre></div></div></div><div class=\"sk-serial\"><div class=\"sk-item\"><div class=\"sk-estimator sk-toggleable\"><input class=\"sk-toggleable__control sk-hidden--visually\" id=\"sk-estimator-id-20\" type=\"checkbox\" ><label for=\"sk-estimator-id-20\" class=\"sk-toggleable__label sk-toggleable__label-arrow\">SVC</label><div class=\"sk-toggleable__content\"><pre>SVC(random_state=0)</pre></div></div></div></div></div></div></div></div></div></div>"
      ],
      "text/plain": [
       "GridSearchCV(cv=5, estimator=SVC(random_state=0), n_jobs=-1,\n",
       "             param_grid={'C': [0.1, 1, 10], 'gamma': [0.01, 1, 10]})"
      ]
     },
     "execution_count": 75,
     "metadata": {},
     "output_type": "execute_result"
    }
   ],
   "source": [
    "from sklearn.svm import SVC\n",
    "from sklearn.model_selection import GridSearchCV\n",
    "\n",
    "# Defining the function\n",
    "base_k = SVC(random_state= 0, kernel = 'rbf')\n",
    "\n",
    "# Defining a list of parameters\n",
    "param_svc_kernel = {'C':  [0.1, 1, 10]     ,\n",
    "                    'gamma':   [0.01, 1, 10]}\n",
    "\n",
    "# Applying grid search and training the model\n",
    "grid_kernel = GridSearchCV(base_k, param_svc_kernel, cv = 5, n_jobs=-1)\n",
    "grid_kernel.fit(x_train_scaled, y_train)"
   ]
  },
  {
   "cell_type": "code",
   "execution_count": 76,
   "id": "924fae8f",
   "metadata": {},
   "outputs": [
    {
     "name": "stdout",
     "output_type": "stream",
     "text": [
      "Best C: {'C': 10, 'gamma': 1}\n",
      "Mean Validation Score: 0.4980367333880687\n",
      "Test accuracy: 0.5062881400902096\n"
     ]
    }
   ],
   "source": [
    "# Best hyperparameter chosen:\n",
    "print('Best C:', grid_kernel.best_params_)\n",
    "\n",
    "# Best validation score through CV is:\n",
    "print('Mean Validation Score:', grid_kernel.best_score_)\n",
    "\n",
    "# Test accuracy\n",
    "print(\"Test accuracy:\", grid_kernel.score(x_test_scaled, y_test))"
   ]
  },
  {
   "cell_type": "code",
   "execution_count": 77,
   "id": "e6331f55",
   "metadata": {},
   "outputs": [],
   "source": [
    "y_pred7 = grid_kernel.predict(x_test_scaled)\n",
    "acc7 = accuracy_score(y_test, y_pred7)*100\n",
    "rmse7 = mean_squared_error(y_test, y_pred7)"
   ]
  },
  {
   "cell_type": "code",
   "execution_count": 78,
   "id": "4c8b4eda",
   "metadata": {},
   "outputs": [
    {
     "name": "stdout",
     "output_type": "stream",
     "text": [
      "              precision    recall  f1-score   support\n",
      "\n",
      "           1       0.61      0.63      0.62      9422\n",
      "           2       0.48      0.45      0.47      9423\n",
      "           3       0.48      0.48      0.48      9422\n",
      "           4       0.45      0.47      0.46      9423\n",
      "\n",
      "    accuracy                           0.51     37690\n",
      "   macro avg       0.51      0.51      0.51     37690\n",
      "weighted avg       0.51      0.51      0.51     37690\n",
      "\n"
     ]
    }
   ],
   "source": [
    "print(classification_report(y_test, y_pred7))"
   ]
  },
  {
   "cell_type": "markdown",
   "id": "ad0ff56f",
   "metadata": {},
   "source": [
    "### Ensemble: Random Forest"
   ]
  },
  {
   "cell_type": "code",
   "execution_count": 70,
   "id": "19d18b36",
   "metadata": {},
   "outputs": [
    {
     "data": {
      "text/html": [
       "<style>#sk-container-id-8 {color: black;background-color: white;}#sk-container-id-8 pre{padding: 0;}#sk-container-id-8 div.sk-toggleable {background-color: white;}#sk-container-id-8 label.sk-toggleable__label {cursor: pointer;display: block;width: 100%;margin-bottom: 0;padding: 0.3em;box-sizing: border-box;text-align: center;}#sk-container-id-8 label.sk-toggleable__label-arrow:before {content: \"▸\";float: left;margin-right: 0.25em;color: #696969;}#sk-container-id-8 label.sk-toggleable__label-arrow:hover:before {color: black;}#sk-container-id-8 div.sk-estimator:hover label.sk-toggleable__label-arrow:before {color: black;}#sk-container-id-8 div.sk-toggleable__content {max-height: 0;max-width: 0;overflow: hidden;text-align: left;background-color: #f0f8ff;}#sk-container-id-8 div.sk-toggleable__content pre {margin: 0.2em;color: black;border-radius: 0.25em;background-color: #f0f8ff;}#sk-container-id-8 input.sk-toggleable__control:checked~div.sk-toggleable__content {max-height: 200px;max-width: 100%;overflow: auto;}#sk-container-id-8 input.sk-toggleable__control:checked~label.sk-toggleable__label-arrow:before {content: \"▾\";}#sk-container-id-8 div.sk-estimator input.sk-toggleable__control:checked~label.sk-toggleable__label {background-color: #d4ebff;}#sk-container-id-8 div.sk-label input.sk-toggleable__control:checked~label.sk-toggleable__label {background-color: #d4ebff;}#sk-container-id-8 input.sk-hidden--visually {border: 0;clip: rect(1px 1px 1px 1px);clip: rect(1px, 1px, 1px, 1px);height: 1px;margin: -1px;overflow: hidden;padding: 0;position: absolute;width: 1px;}#sk-container-id-8 div.sk-estimator {font-family: monospace;background-color: #f0f8ff;border: 1px dotted black;border-radius: 0.25em;box-sizing: border-box;margin-bottom: 0.5em;}#sk-container-id-8 div.sk-estimator:hover {background-color: #d4ebff;}#sk-container-id-8 div.sk-parallel-item::after {content: \"\";width: 100%;border-bottom: 1px solid gray;flex-grow: 1;}#sk-container-id-8 div.sk-label:hover label.sk-toggleable__label {background-color: #d4ebff;}#sk-container-id-8 div.sk-serial::before {content: \"\";position: absolute;border-left: 1px solid gray;box-sizing: border-box;top: 0;bottom: 0;left: 50%;z-index: 0;}#sk-container-id-8 div.sk-serial {display: flex;flex-direction: column;align-items: center;background-color: white;padding-right: 0.2em;padding-left: 0.2em;position: relative;}#sk-container-id-8 div.sk-item {position: relative;z-index: 1;}#sk-container-id-8 div.sk-parallel {display: flex;align-items: stretch;justify-content: center;background-color: white;position: relative;}#sk-container-id-8 div.sk-item::before, #sk-container-id-8 div.sk-parallel-item::before {content: \"\";position: absolute;border-left: 1px solid gray;box-sizing: border-box;top: 0;bottom: 0;left: 50%;z-index: -1;}#sk-container-id-8 div.sk-parallel-item {display: flex;flex-direction: column;z-index: 1;position: relative;background-color: white;}#sk-container-id-8 div.sk-parallel-item:first-child::after {align-self: flex-end;width: 50%;}#sk-container-id-8 div.sk-parallel-item:last-child::after {align-self: flex-start;width: 50%;}#sk-container-id-8 div.sk-parallel-item:only-child::after {width: 0;}#sk-container-id-8 div.sk-dashed-wrapped {border: 1px dashed gray;margin: 0 0.4em 0.5em 0.4em;box-sizing: border-box;padding-bottom: 0.4em;background-color: white;}#sk-container-id-8 div.sk-label label {font-family: monospace;font-weight: bold;display: inline-block;line-height: 1.2em;}#sk-container-id-8 div.sk-label-container {text-align: center;}#sk-container-id-8 div.sk-container {/* jupyter's `normalize.less` sets `[hidden] { display: none; }` but bootstrap.min.css set `[hidden] { display: none !important; }` so we also need the `!important` here to be able to override the default hidden behavior on the sphinx rendered scikit-learn.org. See: https://github.com/scikit-learn/scikit-learn/issues/21755 */display: inline-block !important;position: relative;}#sk-container-id-8 div.sk-text-repr-fallback {display: none;}</style><div id=\"sk-container-id-8\" class=\"sk-top-container\"><div class=\"sk-text-repr-fallback\"><pre>RandomForestClassifier(max_depth=6, max_leaf_nodes=10, max_samples=1000,\n",
       "                       n_estimators=200, random_state=0)</pre><b>In a Jupyter environment, please rerun this cell to show the HTML representation or trust the notebook. <br />On GitHub, the HTML representation is unable to render, please try loading this page with nbviewer.org.</b></div><div class=\"sk-container\" hidden><div class=\"sk-item\"><div class=\"sk-estimator sk-toggleable\"><input class=\"sk-toggleable__control sk-hidden--visually\" id=\"sk-estimator-id-14\" type=\"checkbox\" checked><label for=\"sk-estimator-id-14\" class=\"sk-toggleable__label sk-toggleable__label-arrow\">RandomForestClassifier</label><div class=\"sk-toggleable__content\"><pre>RandomForestClassifier(max_depth=6, max_leaf_nodes=10, max_samples=1000,\n",
       "                       n_estimators=200, random_state=0)</pre></div></div></div></div></div>"
      ],
      "text/plain": [
       "RandomForestClassifier(max_depth=6, max_leaf_nodes=10, max_samples=1000,\n",
       "                       n_estimators=200, random_state=0)"
      ]
     },
     "execution_count": 70,
     "metadata": {},
     "output_type": "execute_result"
    }
   ],
   "source": [
    "from sklearn.ensemble import RandomForestClassifier\n",
    "\n",
    "rnd_clf = RandomForestClassifier(n_estimators=200, \n",
    "                                 max_samples=1000, \n",
    "                                 max_depth=6,\n",
    "                                 min_samples_split=2,\n",
    "                                 max_leaf_nodes=10,\n",
    "                                 random_state = 0)\n",
    "\n",
    "rnd_clf.fit(x_train_scaled, y_train)"
   ]
  },
  {
   "cell_type": "code",
   "execution_count": 65,
   "id": "2a7d8627",
   "metadata": {},
   "outputs": [
    {
     "name": "stdout",
     "output_type": "stream",
     "text": [
      "The test accuracy for the ensemble:random forest is 0.5722738126824092\n"
     ]
    }
   ],
   "source": [
    "print(\"The test accuracy for the ensemble:random forest is\", rnd_clf.score(x_test_scaled, y_test))"
   ]
  },
  {
   "cell_type": "code",
   "execution_count": 66,
   "id": "b73633c9",
   "metadata": {},
   "outputs": [],
   "source": [
    "y_pred8 = rnd_clf.predict(x_test_scaled)\n",
    "acc8 = accuracy_score(y_test, y_pred8)*100\n",
    "rmse8 = mean_squared_error(y_test, y_pred8)"
   ]
  },
  {
   "cell_type": "code",
   "execution_count": 67,
   "id": "b0fb9c7b",
   "metadata": {},
   "outputs": [
    {
     "name": "stdout",
     "output_type": "stream",
     "text": [
      "              precision    recall  f1-score   support\n",
      "\n",
      "           1       0.67      0.84      0.74      9422\n",
      "           2       0.50      0.56      0.53      9423\n",
      "           3       0.66      0.31      0.42      9422\n",
      "           4       0.50      0.58      0.54      9423\n",
      "\n",
      "    accuracy                           0.57     37690\n",
      "   macro avg       0.58      0.57      0.56     37690\n",
      "weighted avg       0.58      0.57      0.56     37690\n",
      "\n"
     ]
    }
   ],
   "source": [
    "print(classification_report(y_test, y_pred8))"
   ]
  },
  {
   "cell_type": "markdown",
   "id": "3dba614c",
   "metadata": {},
   "source": [
    "### Ensemble: Ada Boost"
   ]
  },
  {
   "cell_type": "code",
   "execution_count": 58,
   "id": "8237e3c4",
   "metadata": {},
   "outputs": [
    {
     "data": {
      "text/html": [
       "<style>#sk-container-id-6 {color: black;background-color: white;}#sk-container-id-6 pre{padding: 0;}#sk-container-id-6 div.sk-toggleable {background-color: white;}#sk-container-id-6 label.sk-toggleable__label {cursor: pointer;display: block;width: 100%;margin-bottom: 0;padding: 0.3em;box-sizing: border-box;text-align: center;}#sk-container-id-6 label.sk-toggleable__label-arrow:before {content: \"▸\";float: left;margin-right: 0.25em;color: #696969;}#sk-container-id-6 label.sk-toggleable__label-arrow:hover:before {color: black;}#sk-container-id-6 div.sk-estimator:hover label.sk-toggleable__label-arrow:before {color: black;}#sk-container-id-6 div.sk-toggleable__content {max-height: 0;max-width: 0;overflow: hidden;text-align: left;background-color: #f0f8ff;}#sk-container-id-6 div.sk-toggleable__content pre {margin: 0.2em;color: black;border-radius: 0.25em;background-color: #f0f8ff;}#sk-container-id-6 input.sk-toggleable__control:checked~div.sk-toggleable__content {max-height: 200px;max-width: 100%;overflow: auto;}#sk-container-id-6 input.sk-toggleable__control:checked~label.sk-toggleable__label-arrow:before {content: \"▾\";}#sk-container-id-6 div.sk-estimator input.sk-toggleable__control:checked~label.sk-toggleable__label {background-color: #d4ebff;}#sk-container-id-6 div.sk-label input.sk-toggleable__control:checked~label.sk-toggleable__label {background-color: #d4ebff;}#sk-container-id-6 input.sk-hidden--visually {border: 0;clip: rect(1px 1px 1px 1px);clip: rect(1px, 1px, 1px, 1px);height: 1px;margin: -1px;overflow: hidden;padding: 0;position: absolute;width: 1px;}#sk-container-id-6 div.sk-estimator {font-family: monospace;background-color: #f0f8ff;border: 1px dotted black;border-radius: 0.25em;box-sizing: border-box;margin-bottom: 0.5em;}#sk-container-id-6 div.sk-estimator:hover {background-color: #d4ebff;}#sk-container-id-6 div.sk-parallel-item::after {content: \"\";width: 100%;border-bottom: 1px solid gray;flex-grow: 1;}#sk-container-id-6 div.sk-label:hover label.sk-toggleable__label {background-color: #d4ebff;}#sk-container-id-6 div.sk-serial::before {content: \"\";position: absolute;border-left: 1px solid gray;box-sizing: border-box;top: 0;bottom: 0;left: 50%;z-index: 0;}#sk-container-id-6 div.sk-serial {display: flex;flex-direction: column;align-items: center;background-color: white;padding-right: 0.2em;padding-left: 0.2em;position: relative;}#sk-container-id-6 div.sk-item {position: relative;z-index: 1;}#sk-container-id-6 div.sk-parallel {display: flex;align-items: stretch;justify-content: center;background-color: white;position: relative;}#sk-container-id-6 div.sk-item::before, #sk-container-id-6 div.sk-parallel-item::before {content: \"\";position: absolute;border-left: 1px solid gray;box-sizing: border-box;top: 0;bottom: 0;left: 50%;z-index: -1;}#sk-container-id-6 div.sk-parallel-item {display: flex;flex-direction: column;z-index: 1;position: relative;background-color: white;}#sk-container-id-6 div.sk-parallel-item:first-child::after {align-self: flex-end;width: 50%;}#sk-container-id-6 div.sk-parallel-item:last-child::after {align-self: flex-start;width: 50%;}#sk-container-id-6 div.sk-parallel-item:only-child::after {width: 0;}#sk-container-id-6 div.sk-dashed-wrapped {border: 1px dashed gray;margin: 0 0.4em 0.5em 0.4em;box-sizing: border-box;padding-bottom: 0.4em;background-color: white;}#sk-container-id-6 div.sk-label label {font-family: monospace;font-weight: bold;display: inline-block;line-height: 1.2em;}#sk-container-id-6 div.sk-label-container {text-align: center;}#sk-container-id-6 div.sk-container {/* jupyter's `normalize.less` sets `[hidden] { display: none; }` but bootstrap.min.css set `[hidden] { display: none !important; }` so we also need the `!important` here to be able to override the default hidden behavior on the sphinx rendered scikit-learn.org. See: https://github.com/scikit-learn/scikit-learn/issues/21755 */display: inline-block !important;position: relative;}#sk-container-id-6 div.sk-text-repr-fallback {display: none;}</style><div id=\"sk-container-id-6\" class=\"sk-top-container\"><div class=\"sk-text-repr-fallback\"><pre>AdaBoostClassifier(base_estimator=GaussianNB(), learning_rate=0.3,\n",
       "                   n_estimators=200, random_state=0)</pre><b>In a Jupyter environment, please rerun this cell to show the HTML representation or trust the notebook. <br />On GitHub, the HTML representation is unable to render, please try loading this page with nbviewer.org.</b></div><div class=\"sk-container\" hidden><div class=\"sk-item sk-dashed-wrapped\"><div class=\"sk-label-container\"><div class=\"sk-label sk-toggleable\"><input class=\"sk-toggleable__control sk-hidden--visually\" id=\"sk-estimator-id-10\" type=\"checkbox\" ><label for=\"sk-estimator-id-10\" class=\"sk-toggleable__label sk-toggleable__label-arrow\">AdaBoostClassifier</label><div class=\"sk-toggleable__content\"><pre>AdaBoostClassifier(base_estimator=GaussianNB(), learning_rate=0.3,\n",
       "                   n_estimators=200, random_state=0)</pre></div></div></div><div class=\"sk-parallel\"><div class=\"sk-parallel-item\"><div class=\"sk-item\"><div class=\"sk-label-container\"><div class=\"sk-label sk-toggleable\"><input class=\"sk-toggleable__control sk-hidden--visually\" id=\"sk-estimator-id-11\" type=\"checkbox\" ><label for=\"sk-estimator-id-11\" class=\"sk-toggleable__label sk-toggleable__label-arrow\">base_estimator: GaussianNB</label><div class=\"sk-toggleable__content\"><pre>GaussianNB()</pre></div></div></div><div class=\"sk-serial\"><div class=\"sk-item\"><div class=\"sk-estimator sk-toggleable\"><input class=\"sk-toggleable__control sk-hidden--visually\" id=\"sk-estimator-id-12\" type=\"checkbox\" ><label for=\"sk-estimator-id-12\" class=\"sk-toggleable__label sk-toggleable__label-arrow\">GaussianNB</label><div class=\"sk-toggleable__content\"><pre>GaussianNB()</pre></div></div></div></div></div></div></div></div></div></div>"
      ],
      "text/plain": [
       "AdaBoostClassifier(base_estimator=GaussianNB(), learning_rate=0.3,\n",
       "                   n_estimators=200, random_state=0)"
      ]
     },
     "execution_count": 58,
     "metadata": {},
     "output_type": "execute_result"
    }
   ],
   "source": [
    "from sklearn.ensemble import AdaBoostClassifier\n",
    "from sklearn.naive_bayes import GaussianNB\n",
    "\n",
    "# Define base model\n",
    "naive_dt = GaussianNB()\n",
    "\n",
    "# AdaBoost\n",
    "ada_clf = AdaBoostClassifier(naive_dt, \n",
    "                             n_estimators=200, \n",
    "                             learning_rate=0.3,\n",
    "                             random_state=0)\n",
    "\n",
    "ada_clf.fit(x_train_scaled, y_train)"
   ]
  },
  {
   "cell_type": "code",
   "execution_count": 63,
   "id": "aaff5f04",
   "metadata": {},
   "outputs": [
    {
     "name": "stdout",
     "output_type": "stream",
     "text": [
      "Test accuracy: 0.2868665428495622\n"
     ]
    }
   ],
   "source": [
    "# Test accuracy\n",
    "print(\"Test accuracy:\", ada_clf.score(x_test_scaled, y_test))"
   ]
  },
  {
   "cell_type": "code",
   "execution_count": 60,
   "id": "fe6deb52",
   "metadata": {},
   "outputs": [],
   "source": [
    "y_pred9 = ada_clf.predict(x_test_scaled)\n",
    "acc9 = accuracy_score(y_test, y_pred9)*100\n",
    "rmse9 = mean_squared_error(y_test, y_pred9)"
   ]
  },
  {
   "cell_type": "code",
   "execution_count": 61,
   "id": "ea5eea8e",
   "metadata": {},
   "outputs": [
    {
     "name": "stdout",
     "output_type": "stream",
     "text": [
      "              precision    recall  f1-score   support\n",
      "\n",
      "           1       0.33      0.26      0.29      9422\n",
      "           2       0.28      0.30      0.29      9423\n",
      "           3       0.30      0.24      0.27      9422\n",
      "           4       0.26      0.35      0.30      9423\n",
      "\n",
      "    accuracy                           0.29     37690\n",
      "   macro avg       0.29      0.29      0.29     37690\n",
      "weighted avg       0.29      0.29      0.29     37690\n",
      "\n"
     ]
    }
   ],
   "source": [
    "print(classification_report(y_test, y_pred9))"
   ]
  },
  {
   "cell_type": "markdown",
   "id": "90aea27e",
   "metadata": {},
   "source": [
    "### Creating Metrics"
   ]
  },
  {
   "cell_type": "code",
   "execution_count": 83,
   "id": "69e3657c",
   "metadata": {},
   "outputs": [
    {
     "name": "stdout",
     "output_type": "stream",
     "text": [
      "Model                   Accuracy Score     RMSE\n",
      "--------------------  ----------------  -------\n",
      "Logisitic Regression           46.9912  1.46254\n",
      "kNN                            47.758   1.54595\n",
      "Decision Tree                  56.3943  1.27485\n",
      "Naive Bayes                    26.9859  3.27498\n",
      "SVM_Linear                     47.7129  1.45941\n",
      "SVM_Kernel                     50.6288  1.47938\n",
      "Random Forest                  57.2274  1.28814\n",
      "Ada Boost                      28.6867  2.4134\n"
     ]
    }
   ],
   "source": [
    "table = [['Model', 'Accuracy Score','RMSE'],['Logisitic Regression', acc1,rmse1],['kNN', acc3,rmse3],['Decision Tree', acc4,rmse4],['Naive Bayes', acc5,rmse5],['SVM_Linear', acc6,rmse6], ['SVM_Kernel', acc7,rmse7],['Random Forest', acc8,rmse8], ['Ada Boost', acc9,rmse9]]\n",
    "print(tabulate(table, headers = \"firstrow\" ))"
   ]
  },
  {
   "cell_type": "code",
   "execution_count": null,
   "id": "a0bd87ce",
   "metadata": {},
   "outputs": [],
   "source": []
  }
 ],
 "metadata": {
  "kernelspec": {
   "display_name": "Python 3 (ipykernel)",
   "language": "python",
   "name": "python3"
  },
  "language_info": {
   "codemirror_mode": {
    "name": "ipython",
    "version": 3
   },
   "file_extension": ".py",
   "mimetype": "text/x-python",
   "name": "python",
   "nbconvert_exporter": "python",
   "pygments_lexer": "ipython3",
   "version": "3.9.12"
  }
 },
 "nbformat": 4,
 "nbformat_minor": 5
}
